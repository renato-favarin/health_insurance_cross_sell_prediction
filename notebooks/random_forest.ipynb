{
 "cells": [
  {
   "cell_type": "markdown",
   "id": "69b391f1-7141-432f-8049-7036c71bc72e",
   "metadata": {
    "execution": {
     "iopub.execute_input": "2021-11-20T12:36:16.408048Z",
     "iopub.status.busy": "2021-11-20T12:36:16.408048Z",
     "iopub.status.idle": "2021-11-20T12:36:16.411048Z",
     "shell.execute_reply": "2021-11-20T12:36:16.410048Z",
     "shell.execute_reply.started": "2021-11-20T12:36:16.408048Z"
    }
   },
   "source": [
    "# Imports"
   ]
  },
  {
   "cell_type": "code",
   "execution_count": 23,
   "id": "edeb8491-3613-4647-b77e-a5cbec836cdf",
   "metadata": {
    "execution": {
     "iopub.execute_input": "2021-11-20T12:29:12.886048Z",
     "iopub.status.busy": "2021-11-20T12:29:12.886048Z",
     "iopub.status.idle": "2021-11-20T12:29:12.888048Z",
     "shell.execute_reply": "2021-11-20T12:29:12.887048Z",
     "shell.execute_reply.started": "2021-11-20T12:29:12.886048Z"
    },
    "tags": []
   },
   "outputs": [],
   "source": [
    "import pandas as pd\n",
    "import numpy as np\n",
    "import cross_validation as cv\n",
    "import random\n",
    "\n",
    "from tabulate import tabulate\n",
    "from cross_validation import runCrossValidation\n",
    "from sklearn.ensemble import RandomForestClassifier"
   ]
  },
  {
   "cell_type": "markdown",
   "id": "93fdec04-575e-42f9-8c30-917c84cb32c6",
   "metadata": {
    "execution": {
     "iopub.execute_input": "2021-11-15T11:24:09.080000Z",
     "iopub.status.busy": "2021-11-15T11:24:09.079000Z",
     "iopub.status.idle": "2021-11-15T11:24:09.084000Z",
     "shell.execute_reply": "2021-11-15T11:24:09.083000Z",
     "shell.execute_reply.started": "2021-11-15T11:24:09.080000Z"
    }
   },
   "source": [
    "# Load data"
   ]
  },
  {
   "cell_type": "code",
   "execution_count": 13,
   "id": "edcd5c29-dc64-4c1f-a840-84ae04ca5c40",
   "metadata": {
    "execution": {
     "iopub.execute_input": "2021-11-20T11:39:37.775000Z",
     "iopub.status.busy": "2021-11-20T11:39:37.775000Z",
     "iopub.status.idle": "2021-11-20T11:39:37.854000Z",
     "shell.execute_reply": "2021-11-20T11:39:37.854000Z",
     "shell.execute_reply.started": "2021-11-20T11:39:37.775000Z"
    },
    "tags": []
   },
   "outputs": [],
   "source": [
    "#train\n",
    "x_train_df5 = pd.read_pickle(r'../data/interim/x_train_df5_round1.pkl')\n",
    "y_train_df5 = pd.read_pickle(r'../data/interim/y_train_df5_round1.pkl')\n",
    "\n",
    "#validation\n",
    "x_val_ml = pd.read_pickle(r'../data/interim/x_val_ml_round1.pkl')\n",
    "y_val = pd.read_pickle(r'../data/interim/y_val_round1.pkl')\n",
    "\n",
    "#test\n",
    "x_test = pd.read_pickle(r'../data/interim/x_test_round1.pkl')\n",
    "y_test = pd.read_pickle(r'../data/interim/y_test_round1.pkl')"
   ]
  },
  {
   "cell_type": "markdown",
   "id": "8be28644-2e12-4388-a8b4-39232b989a5f",
   "metadata": {},
   "source": [
    "# 13.1 Random forest classifier"
   ]
  },
  {
   "cell_type": "code",
   "execution_count": 29,
   "id": "8d2fc317-ff11-4be7-a7cf-1b0644cf3f2e",
   "metadata": {
    "execution": {
     "iopub.execute_input": "2021-11-21T14:31:28.492475Z",
     "iopub.status.busy": "2021-11-21T14:31:28.491475Z",
     "iopub.status.idle": "2021-11-21T14:56:23.792475Z",
     "shell.execute_reply": "2021-11-21T14:56:23.792475Z",
     "shell.execute_reply.started": "2021-11-21T14:31:28.492475Z"
    },
    "tags": []
   },
   "outputs": [
    {
     "name": "stdout",
     "output_type": "stream",
     "text": [
      "{'n_estimators': 300, 'min_samples_split': 3, 'max_depth': 5, 'min_samples_leaf': 3, 'class_weight': 'balanced_subsample'}\n"
     ]
    },
    {
     "data": {
      "text/html": [
       "<div>\n",
       "<style scoped>\n",
       "    .dataframe tbody tr th:only-of-type {\n",
       "        vertical-align: middle;\n",
       "    }\n",
       "\n",
       "    .dataframe tbody tr th {\n",
       "        vertical-align: top;\n",
       "    }\n",
       "\n",
       "    .dataframe thead th {\n",
       "        text-align: right;\n",
       "    }\n",
       "</style>\n",
       "<table border=\"1\" class=\"dataframe\">\n",
       "  <thead>\n",
       "    <tr style=\"text-align: right;\">\n",
       "      <th></th>\n",
       "      <th>mean</th>\n",
       "      <th>std</th>\n",
       "    </tr>\n",
       "  </thead>\n",
       "  <tbody>\n",
       "    <tr>\n",
       "      <th>precision_at_k</th>\n",
       "      <td>0.280711</td>\n",
       "      <td>0.001704</td>\n",
       "    </tr>\n",
       "    <tr>\n",
       "      <th>recall_at_k</th>\n",
       "      <td>0.916546</td>\n",
       "      <td>0.005571</td>\n",
       "    </tr>\n",
       "  </tbody>\n",
       "</table>\n",
       "</div>"
      ],
      "text/plain": [
       "                    mean       std\n",
       "precision_at_k  0.280711  0.001704\n",
       "recall_at_k     0.916546  0.005571"
      ]
     },
     "metadata": {},
     "output_type": "display_data"
    },
    {
     "name": "stdout",
     "output_type": "stream",
     "text": [
      "{'n_estimators': 400, 'min_samples_split': 3, 'max_depth': 5, 'min_samples_leaf': 3, 'class_weight': None}\n"
     ]
    },
    {
     "data": {
      "text/html": [
       "<div>\n",
       "<style scoped>\n",
       "    .dataframe tbody tr th:only-of-type {\n",
       "        vertical-align: middle;\n",
       "    }\n",
       "\n",
       "    .dataframe tbody tr th {\n",
       "        vertical-align: top;\n",
       "    }\n",
       "\n",
       "    .dataframe thead th {\n",
       "        text-align: right;\n",
       "    }\n",
       "</style>\n",
       "<table border=\"1\" class=\"dataframe\">\n",
       "  <thead>\n",
       "    <tr style=\"text-align: right;\">\n",
       "      <th></th>\n",
       "      <th>mean</th>\n",
       "      <th>std</th>\n",
       "    </tr>\n",
       "  </thead>\n",
       "  <tbody>\n",
       "    <tr>\n",
       "      <th>precision_at_k</th>\n",
       "      <td>0.280395</td>\n",
       "      <td>0.001754</td>\n",
       "    </tr>\n",
       "    <tr>\n",
       "      <th>recall_at_k</th>\n",
       "      <td>0.915516</td>\n",
       "      <td>0.005731</td>\n",
       "    </tr>\n",
       "  </tbody>\n",
       "</table>\n",
       "</div>"
      ],
      "text/plain": [
       "                    mean       std\n",
       "precision_at_k  0.280395  0.001754\n",
       "recall_at_k     0.915516  0.005731"
      ]
     },
     "metadata": {},
     "output_type": "display_data"
    },
    {
     "name": "stdout",
     "output_type": "stream",
     "text": [
      "{'n_estimators': 200, 'min_samples_split': 3, 'max_depth': 5, 'min_samples_leaf': 2, 'class_weight': None}\n"
     ]
    },
    {
     "data": {
      "text/html": [
       "<div>\n",
       "<style scoped>\n",
       "    .dataframe tbody tr th:only-of-type {\n",
       "        vertical-align: middle;\n",
       "    }\n",
       "\n",
       "    .dataframe tbody tr th {\n",
       "        vertical-align: top;\n",
       "    }\n",
       "\n",
       "    .dataframe thead th {\n",
       "        text-align: right;\n",
       "    }\n",
       "</style>\n",
       "<table border=\"1\" class=\"dataframe\">\n",
       "  <thead>\n",
       "    <tr style=\"text-align: right;\">\n",
       "      <th></th>\n",
       "      <th>mean</th>\n",
       "      <th>std</th>\n",
       "    </tr>\n",
       "  </thead>\n",
       "  <tbody>\n",
       "    <tr>\n",
       "      <th>precision_at_k</th>\n",
       "      <td>0.280428</td>\n",
       "      <td>0.001634</td>\n",
       "    </tr>\n",
       "    <tr>\n",
       "      <th>recall_at_k</th>\n",
       "      <td>0.915623</td>\n",
       "      <td>0.005338</td>\n",
       "    </tr>\n",
       "  </tbody>\n",
       "</table>\n",
       "</div>"
      ],
      "text/plain": [
       "                    mean       std\n",
       "precision_at_k  0.280428  0.001634\n",
       "recall_at_k     0.915623  0.005338"
      ]
     },
     "metadata": {},
     "output_type": "display_data"
    },
    {
     "name": "stdout",
     "output_type": "stream",
     "text": [
      "{'n_estimators': 100, 'min_samples_split': 3, 'max_depth': 3, 'min_samples_leaf': 3, 'class_weight': 'balanced'}\n"
     ]
    },
    {
     "data": {
      "text/html": [
       "<div>\n",
       "<style scoped>\n",
       "    .dataframe tbody tr th:only-of-type {\n",
       "        vertical-align: middle;\n",
       "    }\n",
       "\n",
       "    .dataframe tbody tr th {\n",
       "        vertical-align: top;\n",
       "    }\n",
       "\n",
       "    .dataframe thead th {\n",
       "        text-align: right;\n",
       "    }\n",
       "</style>\n",
       "<table border=\"1\" class=\"dataframe\">\n",
       "  <thead>\n",
       "    <tr style=\"text-align: right;\">\n",
       "      <th></th>\n",
       "      <th>mean</th>\n",
       "      <th>std</th>\n",
       "    </tr>\n",
       "  </thead>\n",
       "  <tbody>\n",
       "    <tr>\n",
       "      <th>precision_at_k</th>\n",
       "      <td>0.279043</td>\n",
       "      <td>0.001688</td>\n",
       "    </tr>\n",
       "    <tr>\n",
       "      <th>recall_at_k</th>\n",
       "      <td>0.911101</td>\n",
       "      <td>0.005529</td>\n",
       "    </tr>\n",
       "  </tbody>\n",
       "</table>\n",
       "</div>"
      ],
      "text/plain": [
       "                    mean       std\n",
       "precision_at_k  0.279043  0.001688\n",
       "recall_at_k     0.911101  0.005529"
      ]
     },
     "metadata": {},
     "output_type": "display_data"
    },
    {
     "name": "stdout",
     "output_type": "stream",
     "text": [
      "{'n_estimators': 500, 'min_samples_split': 4, 'max_depth': 3, 'min_samples_leaf': 1, 'class_weight': 'balanced'}\n"
     ]
    },
    {
     "data": {
      "text/html": [
       "<div>\n",
       "<style scoped>\n",
       "    .dataframe tbody tr th:only-of-type {\n",
       "        vertical-align: middle;\n",
       "    }\n",
       "\n",
       "    .dataframe tbody tr th {\n",
       "        vertical-align: top;\n",
       "    }\n",
       "\n",
       "    .dataframe thead th {\n",
       "        text-align: right;\n",
       "    }\n",
       "</style>\n",
       "<table border=\"1\" class=\"dataframe\">\n",
       "  <thead>\n",
       "    <tr style=\"text-align: right;\">\n",
       "      <th></th>\n",
       "      <th>mean</th>\n",
       "      <th>std</th>\n",
       "    </tr>\n",
       "  </thead>\n",
       "  <tbody>\n",
       "    <tr>\n",
       "      <th>precision_at_k</th>\n",
       "      <td>0.279129</td>\n",
       "      <td>0.001505</td>\n",
       "    </tr>\n",
       "    <tr>\n",
       "      <th>recall_at_k</th>\n",
       "      <td>0.911382</td>\n",
       "      <td>0.004940</td>\n",
       "    </tr>\n",
       "  </tbody>\n",
       "</table>\n",
       "</div>"
      ],
      "text/plain": [
       "                    mean       std\n",
       "precision_at_k  0.279129  0.001505\n",
       "recall_at_k     0.911382  0.004940"
      ]
     },
     "metadata": {},
     "output_type": "display_data"
    }
   ],
   "source": [
    "## session with high processing time: 24m 55.30s\n",
    "## results compiled in the following table\n",
    "\n",
    "param = {\n",
    "    'n_estimators':  [100, 200, 300, 400, 500],\n",
    "    'min_samples_split':  [2,3,4], \n",
    "    'max_depth': [3,5,9],\n",
    "    'min_samples_leaf': [1,2,3],\n",
    "    'class_weight': [None, 'balanced','balanced_subsample']\n",
    "}\n",
    "\n",
    "\n",
    "max_eval = 5\n",
    "\n",
    "\n",
    "for i in range(max_eval):\n",
    "    # random choice of dictionary values\n",
    "    hp = {k: random.sample(v,1)[0] for k, v in param.items()}\n",
    "    print(hp)\n",
    "\n",
    "    # model definition\n",
    "    rf_model = RandomForestClassifier(n_estimators = hp['n_estimators'], \n",
    "                                      min_samples_split = hp['min_samples_split'],\n",
    "                                      max_depth = hp['max_depth'],\n",
    "                                      min_samples_leaf = hp['min_samples_leaf'],\n",
    "                                      class_weight = hp['class_weight'],\n",
    "                                      n_jobs = -1)\n",
    "\n",
    "    \n",
    "    display(cv.runCrossValidation(rf_model, x_train_df5, x_val_ml,y_train_df5,y_val, n_splits = 10, n_repeats = 2, top_k = 12200))\n",
    "    \n",
    "\n"
   ]
  },
  {
   "cell_type": "code",
   "execution_count": 142,
   "id": "39595b5d-ad7b-4e2e-bd30-b284cd0d8cd9",
   "metadata": {
    "execution": {
     "iopub.execute_input": "2021-11-22T00:33:54.340366Z",
     "iopub.status.busy": "2021-11-22T00:33:54.340366Z",
     "iopub.status.idle": "2021-11-22T00:33:54.343366Z",
     "shell.execute_reply": "2021-11-22T00:33:54.343366Z",
     "shell.execute_reply.started": "2021-11-22T00:33:54.340366Z"
    },
    "tags": []
   },
   "outputs": [
    {
     "name": "stdout",
     "output_type": "stream",
     "text": [
      "╒═════════╤═══════════════════════╤════════════════════════╤══════════════════════════════════════════════════════════════════════════════════════════════════════════════════════════╕\n",
      "│ model   │ precision@k           │ recall@k               │ hyperparameters                                                                                                          │\n",
      "╞═════════╪═══════════════════════╪════════════════════════╪══════════════════════════════════════════════════════════════════════════════════════════════════════════════════════════╡\n",
      "│ #1      │ 0.280711 +/- 0.001704 │ 0.916546 +/- 0.005571  │ 'n_estimators': 300, 'min_samples_split': 3, 'max_depth': 5, 'min_samples_leaf': 3, 'class_weight': 'balanced_subsample' │\n",
      "├─────────┼───────────────────────┼────────────────────────┼──────────────────────────────────────────────────────────────────────────────────────────────────────────────────────────┤\n",
      "│ #2      │ 0.280395 +/- 0.001754 │ 0.915516 +/- 0.0057311 │ 'n_estimators': 400, 'min_samples_split': 3, 'max_depth': 5, 'min_samples_leaf': 3, 'class_weight': None                 │\n",
      "├─────────┼───────────────────────┼────────────────────────┼──────────────────────────────────────────────────────────────────────────────────────────────────────────────────────────┤\n",
      "│ #3      │ 0.280428 +/- 0.001634 │ 0.915623 +/- 0.005338  │ 'n_estimators': 200, 'min_samples_split': 3, 'max_depth': 5, 'min_samples_leaf': 2, 'class_weight': None                 │\n",
      "├─────────┼───────────────────────┼────────────────────────┼──────────────────────────────────────────────────────────────────────────────────────────────────────────────────────────┤\n",
      "│ #4      │ 0.279043 +/- 0.001688 │ 0.911101 +/- 0.005529  │ 'n_estimators': 100, 'min_samples_split': 3, 'max_depth': 3, 'min_samples_leaf': 3, 'class_weight': 'balanced            │\n",
      "├─────────┼───────────────────────┼────────────────────────┼──────────────────────────────────────────────────────────────────────────────────────────────────────────────────────────┤\n",
      "│ #5      │ 0.279129 +/- 0.001505 │ 0.911382 +/- 0.004940  │ 'n_estimators': 500, 'min_samples_split': 4, 'max_depth': 3, 'min_samples_leaf': 1, 'class_weight': 'balanced            │\n",
      "╘═════════╧═══════════════════════╧════════════════════════╧══════════════════════════════════════════════════════════════════════════════════════════════════════════════════════════╛\n"
     ]
    }
   ],
   "source": [
    "final_results = {'model':['#1', '#2', '#3', '#4', '#5'],\n",
    "                 'precision_at_k': ['0.280711 +/- 0.001704',\n",
    "                                    '0.280395 +/- 0.001754',\n",
    "                                    '0.280428 +/- 0.001634',\n",
    "                                    '0.279043 +/- 0.001688',\n",
    "                                    '0.279129 +/- 0.001505'],\n",
    "                 'recall_at_k': ['0.916546 +/- 0.005571',\n",
    "                                 '0.915516 +/- 0.0057311',\n",
    "                                 '0.915623 +/- 0.005338',\n",
    "                                 '0.911101 +/- 0.005529',\n",
    "                                 '0.911382 +/- 0.004940'],\n",
    "                 'parameters': [\"'n_estimators': 300, 'min_samples_split': 3, 'max_depth': 5, 'min_samples_leaf': 3, 'class_weight': 'balanced_subsample'\",\n",
    "                                \"'n_estimators': 400, 'min_samples_split': 3, 'max_depth': 5, 'min_samples_leaf': 3, 'class_weight': None\",\n",
    "                                \"'n_estimators': 200, 'min_samples_split': 3, 'max_depth': 5, 'min_samples_leaf': 2, 'class_weight': None\",\n",
    "                                \"'n_estimators': 100, 'min_samples_split': 3, 'max_depth': 3, 'min_samples_leaf': 3, 'class_weight': 'balanced\",\n",
    "                                \"'n_estimators': 500, 'min_samples_split': 4, 'max_depth': 3, 'min_samples_leaf': 1, 'class_weight': 'balanced\"]\n",
    "                }\n",
    "\n",
    "print(tabulate(final_results, headers=['model','precision@k','recall@k', 'hyperparameters'], tablefmt=\"fancy_grid\"))"
   ]
  },
  {
   "cell_type": "markdown",
   "id": "b74100e3-4921-4134-9601-979a95b58cc9",
   "metadata": {},
   "source": [
    "The results were similar between the different hyperparameter configurations. For the final evaluation, we will choose #1."
   ]
  },
  {
   "cell_type": "markdown",
   "id": "a596d5ba-1e93-421c-a96d-63d647c83725",
   "metadata": {},
   "source": [
    "# 13.1.1 Model training and ranked list export"
   ]
  },
  {
   "cell_type": "code",
   "execution_count": 33,
   "id": "82ec7e8b-44ed-4259-9c7b-9732fcb78776",
   "metadata": {
    "execution": {
     "iopub.execute_input": "2021-11-21T17:37:45.791665Z",
     "iopub.status.busy": "2021-11-21T17:37:45.791665Z",
     "iopub.status.idle": "2021-11-21T17:38:10.621665Z",
     "shell.execute_reply": "2021-11-21T17:38:10.621665Z",
     "shell.execute_reply.started": "2021-11-21T17:37:45.791665Z"
    }
   },
   "outputs": [],
   "source": [
    "# model definition\n",
    "rf_model = RandomForestClassifier(n_estimators = 300, \n",
    "                                  min_samples_split = 3,\n",
    "                                  max_depth = 5,\n",
    "                                  min_samples_leaf = 3,\n",
    "                                  class_weight = 'balanced_subsample',\n",
    "                                  n_jobs = -1)\n",
    "\n",
    "# model training\n",
    "rf_model.fit(x_train_df5, y_train_df5)\n",
    "\n",
    "# model prediction (proba)\n",
    "yhat_proba = rf_model.predict_proba(x_val_ml)\n"
   ]
  },
  {
   "cell_type": "code",
   "execution_count": 56,
   "id": "11b91c36-fcf0-4745-b78c-048f2ea3813a",
   "metadata": {
    "execution": {
     "iopub.execute_input": "2021-11-21T17:54:32.048665Z",
     "iopub.status.busy": "2021-11-21T17:54:32.048665Z",
     "iopub.status.idle": "2021-11-21T17:54:36.264665Z",
     "shell.execute_reply": "2021-11-21T17:54:36.264665Z",
     "shell.execute_reply.started": "2021-11-21T17:54:32.048665Z"
    },
    "tags": []
   },
   "outputs": [
    {
     "data": {
      "image/png": "[encoded data removed]",
      "text/plain": [
       "<Figure size 576x720 with 2 Axes>"
      ]
     },
     "metadata": {
      "needs_background": "light"
     },
     "output_type": "display_data"
    }
   ],
   "source": [
    "table = cv.gain_lift_curve(yhat_proba,y_val)\n",
    "metrics, new_table = cv.precision_recall_at_k(table, 12200)\n",
    "new_table.to_pickle(r\"../data/processed/rf_table.pkl\")"
   ]
  }
 ],
 "metadata": {
  "kernelspec": {
   "display_name": "Python 3 (ipykernel)",
   "language": "python",
   "name": "python3"
  },
  "language_info": {
   "codemirror_mode": {
    "name": "ipython",
    "version": 3
   },
   "file_extension": ".py",
   "mimetype": "text/x-python",
   "name": "python",
   "nbconvert_exporter": "python",
   "pygments_lexer": "ipython3",
   "version": "3.7.11"
  }
 },
 "nbformat": 4,
 "nbformat_minor": 5
}
