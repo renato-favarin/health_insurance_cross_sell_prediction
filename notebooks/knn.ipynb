{
 "cells": [
  {
   "cell_type": "markdown",
   "id": "c150c06e-4a22-46b4-a475-5cc72551ef73",
   "metadata": {},
   "source": [
    "# Imports"
   ]
  },
  {
   "cell_type": "code",
   "execution_count": 3,
   "id": "ca57415f-59a4-47e1-9850-4a61d90ca20c",
   "metadata": {
    "execution": {
     "iopub.execute_input": "2021-11-20T15:00:11.078011Z",
     "iopub.status.busy": "2021-11-20T15:00:11.078011Z",
     "iopub.status.idle": "2021-11-20T15:00:11.084011Z",
     "shell.execute_reply": "2021-11-20T15:00:11.083011Z",
     "shell.execute_reply.started": "2021-11-20T15:00:11.078011Z"
    },
    "tags": []
   },
   "outputs": [],
   "source": [
    "import pandas as pd\n",
    "import numpy as np\n",
    "import cross_validation as cv\n",
    "import random\n",
    "\n",
    "from tabulate import tabulate\n",
    "from cross_validation import runCrossValidation\n",
    "from sklearn import neighbors"
   ]
  },
  {
   "cell_type": "markdown",
   "id": "e4f50b48-bf35-4c63-9102-ebadb2645a29",
   "metadata": {
    "execution": {
     "iopub.execute_input": "2021-11-20T14:57:54.834011Z",
     "iopub.status.busy": "2021-11-20T14:57:54.834011Z",
     "iopub.status.idle": "2021-11-20T14:57:54.835011Z",
     "shell.execute_reply": "2021-11-20T14:57:54.835011Z",
     "shell.execute_reply.started": "2021-11-20T14:57:54.834011Z"
    }
   },
   "source": [
    "# Load data"
   ]
  },
  {
   "cell_type": "code",
   "execution_count": 4,
   "id": "4b7fae8d-c43f-44f8-af01-5c908aab6b92",
   "metadata": {
    "execution": {
     "iopub.execute_input": "2021-11-20T15:07:52.415000Z",
     "iopub.status.busy": "2021-11-20T15:07:52.414000Z",
     "iopub.status.idle": "2021-11-20T15:07:52.493000Z",
     "shell.execute_reply": "2021-11-20T15:07:52.493000Z",
     "shell.execute_reply.started": "2021-11-20T15:07:52.415000Z"
    }
   },
   "outputs": [],
   "source": [
    "#train\n",
    "x_train_df5 = pd.read_pickle(r'../data/interim/x_train_df5_round1.pkl')\n",
    "y_train_df5 = pd.read_pickle(r'../data/interim/y_train_df5_round1.pkl')\n",
    "\n",
    "#validation\n",
    "x_val_ml = pd.read_pickle(r'../data/interim/x_val_ml_round1.pkl')\n",
    "y_val = pd.read_pickle(r'../data/interim/y_val_round1.pkl')\n",
    "\n",
    "#test\n",
    "x_test = pd.read_pickle(r'../data/interim/x_test_round1.pkl')\n",
    "y_test = pd.read_pickle(r'../data/interim/y_test_round1.pkl')"
   ]
  },
  {
   "cell_type": "markdown",
   "id": "7066176a-c5aa-44be-bd81-7e5cfaabd298",
   "metadata": {},
   "source": [
    "# 13.4 KNN"
   ]
  },
  {
   "cell_type": "code",
   "execution_count": 5,
   "id": "95a0c4a5-08b6-4b9c-b478-0564d38f596e",
   "metadata": {
    "execution": {
     "iopub.execute_input": "2021-11-20T15:07:58.392000Z",
     "iopub.status.busy": "2021-11-20T15:07:58.392000Z",
     "iopub.status.idle": "2021-11-20T20:33:29.076876Z",
     "shell.execute_reply": "2021-11-20T20:33:29.076876Z",
     "shell.execute_reply.started": "2021-11-20T15:07:58.392000Z"
    },
    "tags": []
   },
   "outputs": [
    {
     "name": "stdout",
     "output_type": "stream",
     "text": [
      "{'n_neighbors': 3, 'weights': 'distance', 'algorithm': 'brute', 'leaf_size': 20, 'p': 1}\n"
     ]
    },
    {
     "name": "stderr",
     "output_type": "stream",
     "text": [
      "c:\\users\\rnfavar.embad.000\\miniconda3\\envs\\dev_pa_4\\lib\\site-packages\\sklearn\\base.py:442: UserWarning: X does not have valid feature names, but KNeighborsClassifier was fitted with feature names\n",
      "  \"X does not have valid feature names, but\"\n",
      "c:\\users\\rnfavar.embad.000\\miniconda3\\envs\\dev_pa_4\\lib\\site-packages\\sklearn\\base.py:442: UserWarning: X does not have valid feature names, but KNeighborsClassifier was fitted with feature names\n",
      "  \"X does not have valid feature names, but\"\n",
      "c:\\users\\rnfavar.embad.000\\miniconda3\\envs\\dev_pa_4\\lib\\site-packages\\sklearn\\base.py:442: UserWarning: X does not have valid feature names, but KNeighborsClassifier was fitted with feature names\n",
      "  \"X does not have valid feature names, but\"\n",
      "c:\\users\\rnfavar.embad.000\\miniconda3\\envs\\dev_pa_4\\lib\\site-packages\\sklearn\\base.py:442: UserWarning: X does not have valid feature names, but KNeighborsClassifier was fitted with feature names\n",
      "  \"X does not have valid feature names, but\"\n",
      "c:\\users\\rnfavar.embad.000\\miniconda3\\envs\\dev_pa_4\\lib\\site-packages\\sklearn\\base.py:442: UserWarning: X does not have valid feature names, but KNeighborsClassifier was fitted with feature names\n",
      "  \"X does not have valid feature names, but\"\n",
      "c:\\users\\rnfavar.embad.000\\miniconda3\\envs\\dev_pa_4\\lib\\site-packages\\sklearn\\base.py:442: UserWarning: X does not have valid feature names, but KNeighborsClassifier was fitted with feature names\n",
      "  \"X does not have valid feature names, but\"\n",
      "c:\\users\\rnfavar.embad.000\\miniconda3\\envs\\dev_pa_4\\lib\\site-packages\\sklearn\\base.py:442: UserWarning: X does not have valid feature names, but KNeighborsClassifier was fitted with feature names\n",
      "  \"X does not have valid feature names, but\"\n",
      "c:\\users\\rnfavar.embad.000\\miniconda3\\envs\\dev_pa_4\\lib\\site-packages\\sklearn\\base.py:442: UserWarning: X does not have valid feature names, but KNeighborsClassifier was fitted with feature names\n",
      "  \"X does not have valid feature names, but\"\n",
      "c:\\users\\rnfavar.embad.000\\miniconda3\\envs\\dev_pa_4\\lib\\site-packages\\sklearn\\base.py:442: UserWarning: X does not have valid feature names, but KNeighborsClassifier was fitted with feature names\n",
      "  \"X does not have valid feature names, but\"\n",
      "c:\\users\\rnfavar.embad.000\\miniconda3\\envs\\dev_pa_4\\lib\\site-packages\\sklearn\\base.py:442: UserWarning: X does not have valid feature names, but KNeighborsClassifier was fitted with feature names\n",
      "  \"X does not have valid feature names, but\"\n",
      "c:\\users\\rnfavar.embad.000\\miniconda3\\envs\\dev_pa_4\\lib\\site-packages\\sklearn\\base.py:442: UserWarning: X does not have valid feature names, but KNeighborsClassifier was fitted with feature names\n",
      "  \"X does not have valid feature names, but\"\n",
      "c:\\users\\rnfavar.embad.000\\miniconda3\\envs\\dev_pa_4\\lib\\site-packages\\sklearn\\base.py:442: UserWarning: X does not have valid feature names, but KNeighborsClassifier was fitted with feature names\n",
      "  \"X does not have valid feature names, but\"\n",
      "c:\\users\\rnfavar.embad.000\\miniconda3\\envs\\dev_pa_4\\lib\\site-packages\\sklearn\\base.py:442: UserWarning: X does not have valid feature names, but KNeighborsClassifier was fitted with feature names\n",
      "  \"X does not have valid feature names, but\"\n",
      "c:\\users\\rnfavar.embad.000\\miniconda3\\envs\\dev_pa_4\\lib\\site-packages\\sklearn\\base.py:442: UserWarning: X does not have valid feature names, but KNeighborsClassifier was fitted with feature names\n",
      "  \"X does not have valid feature names, but\"\n",
      "c:\\users\\rnfavar.embad.000\\miniconda3\\envs\\dev_pa_4\\lib\\site-packages\\sklearn\\base.py:442: UserWarning: X does not have valid feature names, but KNeighborsClassifier was fitted with feature names\n",
      "  \"X does not have valid feature names, but\"\n",
      "c:\\users\\rnfavar.embad.000\\miniconda3\\envs\\dev_pa_4\\lib\\site-packages\\sklearn\\base.py:442: UserWarning: X does not have valid feature names, but KNeighborsClassifier was fitted with feature names\n",
      "  \"X does not have valid feature names, but\"\n",
      "c:\\users\\rnfavar.embad.000\\miniconda3\\envs\\dev_pa_4\\lib\\site-packages\\sklearn\\base.py:442: UserWarning: X does not have valid feature names, but KNeighborsClassifier was fitted with feature names\n",
      "  \"X does not have valid feature names, but\"\n",
      "c:\\users\\rnfavar.embad.000\\miniconda3\\envs\\dev_pa_4\\lib\\site-packages\\sklearn\\base.py:442: UserWarning: X does not have valid feature names, but KNeighborsClassifier was fitted with feature names\n",
      "  \"X does not have valid feature names, but\"\n",
      "c:\\users\\rnfavar.embad.000\\miniconda3\\envs\\dev_pa_4\\lib\\site-packages\\sklearn\\base.py:442: UserWarning: X does not have valid feature names, but KNeighborsClassifier was fitted with feature names\n",
      "  \"X does not have valid feature names, but\"\n",
      "c:\\users\\rnfavar.embad.000\\miniconda3\\envs\\dev_pa_4\\lib\\site-packages\\sklearn\\base.py:442: UserWarning: X does not have valid feature names, but KNeighborsClassifier was fitted with feature names\n",
      "  \"X does not have valid feature names, but\"\n"
     ]
    },
    {
     "data": {
      "text/html": [
       "<div>\n",
       "<style scoped>\n",
       "    .dataframe tbody tr th:only-of-type {\n",
       "        vertical-align: middle;\n",
       "    }\n",
       "\n",
       "    .dataframe tbody tr th {\n",
       "        vertical-align: top;\n",
       "    }\n",
       "\n",
       "    .dataframe thead th {\n",
       "        text-align: right;\n",
       "    }\n",
       "</style>\n",
       "<table border=\"1\" class=\"dataframe\">\n",
       "  <thead>\n",
       "    <tr style=\"text-align: right;\">\n",
       "      <th></th>\n",
       "      <th>mean</th>\n",
       "      <th>std</th>\n",
       "    </tr>\n",
       "  </thead>\n",
       "  <tbody>\n",
       "    <tr>\n",
       "      <th>precision_at_k</th>\n",
       "      <td>0.207938</td>\n",
       "      <td>0.001899</td>\n",
       "    </tr>\n",
       "    <tr>\n",
       "      <th>recall_at_k</th>\n",
       "      <td>0.678936</td>\n",
       "      <td>0.006179</td>\n",
       "    </tr>\n",
       "  </tbody>\n",
       "</table>\n",
       "</div>"
      ],
      "text/plain": [
       "                    mean       std\n",
       "precision_at_k  0.207938  0.001899\n",
       "recall_at_k     0.678936  0.006179"
      ]
     },
     "metadata": {},
     "output_type": "display_data"
    },
    {
     "name": "stdout",
     "output_type": "stream",
     "text": [
      "{'n_neighbors': 5, 'weights': 'uniform', 'algorithm': 'ball_tree', 'leaf_size': 40, 'p': 2}\n"
     ]
    },
    {
     "name": "stderr",
     "output_type": "stream",
     "text": [
      "c:\\users\\rnfavar.embad.000\\miniconda3\\envs\\dev_pa_4\\lib\\site-packages\\sklearn\\base.py:442: UserWarning: X does not have valid feature names, but KNeighborsClassifier was fitted with feature names\n",
      "  \"X does not have valid feature names, but\"\n",
      "c:\\users\\rnfavar.embad.000\\miniconda3\\envs\\dev_pa_4\\lib\\site-packages\\sklearn\\base.py:442: UserWarning: X does not have valid feature names, but KNeighborsClassifier was fitted with feature names\n",
      "  \"X does not have valid feature names, but\"\n",
      "c:\\users\\rnfavar.embad.000\\miniconda3\\envs\\dev_pa_4\\lib\\site-packages\\sklearn\\base.py:442: UserWarning: X does not have valid feature names, but KNeighborsClassifier was fitted with feature names\n",
      "  \"X does not have valid feature names, but\"\n",
      "c:\\users\\rnfavar.embad.000\\miniconda3\\envs\\dev_pa_4\\lib\\site-packages\\sklearn\\base.py:442: UserWarning: X does not have valid feature names, but KNeighborsClassifier was fitted with feature names\n",
      "  \"X does not have valid feature names, but\"\n",
      "c:\\users\\rnfavar.embad.000\\miniconda3\\envs\\dev_pa_4\\lib\\site-packages\\sklearn\\base.py:442: UserWarning: X does not have valid feature names, but KNeighborsClassifier was fitted with feature names\n",
      "  \"X does not have valid feature names, but\"\n",
      "c:\\users\\rnfavar.embad.000\\miniconda3\\envs\\dev_pa_4\\lib\\site-packages\\sklearn\\base.py:442: UserWarning: X does not have valid feature names, but KNeighborsClassifier was fitted with feature names\n",
      "  \"X does not have valid feature names, but\"\n",
      "c:\\users\\rnfavar.embad.000\\miniconda3\\envs\\dev_pa_4\\lib\\site-packages\\sklearn\\base.py:442: UserWarning: X does not have valid feature names, but KNeighborsClassifier was fitted with feature names\n",
      "  \"X does not have valid feature names, but\"\n",
      "c:\\users\\rnfavar.embad.000\\miniconda3\\envs\\dev_pa_4\\lib\\site-packages\\sklearn\\base.py:442: UserWarning: X does not have valid feature names, but KNeighborsClassifier was fitted with feature names\n",
      "  \"X does not have valid feature names, but\"\n",
      "c:\\users\\rnfavar.embad.000\\miniconda3\\envs\\dev_pa_4\\lib\\site-packages\\sklearn\\base.py:442: UserWarning: X does not have valid feature names, but KNeighborsClassifier was fitted with feature names\n",
      "  \"X does not have valid feature names, but\"\n",
      "c:\\users\\rnfavar.embad.000\\miniconda3\\envs\\dev_pa_4\\lib\\site-packages\\sklearn\\base.py:442: UserWarning: X does not have valid feature names, but KNeighborsClassifier was fitted with feature names\n",
      "  \"X does not have valid feature names, but\"\n",
      "c:\\users\\rnfavar.embad.000\\miniconda3\\envs\\dev_pa_4\\lib\\site-packages\\sklearn\\base.py:442: UserWarning: X does not have valid feature names, but KNeighborsClassifier was fitted with feature names\n",
      "  \"X does not have valid feature names, but\"\n",
      "c:\\users\\rnfavar.embad.000\\miniconda3\\envs\\dev_pa_4\\lib\\site-packages\\sklearn\\base.py:442: UserWarning: X does not have valid feature names, but KNeighborsClassifier was fitted with feature names\n",
      "  \"X does not have valid feature names, but\"\n",
      "c:\\users\\rnfavar.embad.000\\miniconda3\\envs\\dev_pa_4\\lib\\site-packages\\sklearn\\base.py:442: UserWarning: X does not have valid feature names, but KNeighborsClassifier was fitted with feature names\n",
      "  \"X does not have valid feature names, but\"\n",
      "c:\\users\\rnfavar.embad.000\\miniconda3\\envs\\dev_pa_4\\lib\\site-packages\\sklearn\\base.py:442: UserWarning: X does not have valid feature names, but KNeighborsClassifier was fitted with feature names\n",
      "  \"X does not have valid feature names, but\"\n",
      "c:\\users\\rnfavar.embad.000\\miniconda3\\envs\\dev_pa_4\\lib\\site-packages\\sklearn\\base.py:442: UserWarning: X does not have valid feature names, but KNeighborsClassifier was fitted with feature names\n",
      "  \"X does not have valid feature names, but\"\n",
      "c:\\users\\rnfavar.embad.000\\miniconda3\\envs\\dev_pa_4\\lib\\site-packages\\sklearn\\base.py:442: UserWarning: X does not have valid feature names, but KNeighborsClassifier was fitted with feature names\n",
      "  \"X does not have valid feature names, but\"\n",
      "c:\\users\\rnfavar.embad.000\\miniconda3\\envs\\dev_pa_4\\lib\\site-packages\\sklearn\\base.py:442: UserWarning: X does not have valid feature names, but KNeighborsClassifier was fitted with feature names\n",
      "  \"X does not have valid feature names, but\"\n",
      "c:\\users\\rnfavar.embad.000\\miniconda3\\envs\\dev_pa_4\\lib\\site-packages\\sklearn\\base.py:442: UserWarning: X does not have valid feature names, but KNeighborsClassifier was fitted with feature names\n",
      "  \"X does not have valid feature names, but\"\n",
      "c:\\users\\rnfavar.embad.000\\miniconda3\\envs\\dev_pa_4\\lib\\site-packages\\sklearn\\base.py:442: UserWarning: X does not have valid feature names, but KNeighborsClassifier was fitted with feature names\n",
      "  \"X does not have valid feature names, but\"\n",
      "c:\\users\\rnfavar.embad.000\\miniconda3\\envs\\dev_pa_4\\lib\\site-packages\\sklearn\\base.py:442: UserWarning: X does not have valid feature names, but KNeighborsClassifier was fitted with feature names\n",
      "  \"X does not have valid feature names, but\"\n"
     ]
    },
    {
     "data": {
      "text/html": [
       "<div>\n",
       "<style scoped>\n",
       "    .dataframe tbody tr th:only-of-type {\n",
       "        vertical-align: middle;\n",
       "    }\n",
       "\n",
       "    .dataframe tbody tr th {\n",
       "        vertical-align: top;\n",
       "    }\n",
       "\n",
       "    .dataframe thead th {\n",
       "        text-align: right;\n",
       "    }\n",
       "</style>\n",
       "<table border=\"1\" class=\"dataframe\">\n",
       "  <thead>\n",
       "    <tr style=\"text-align: right;\">\n",
       "      <th></th>\n",
       "      <th>mean</th>\n",
       "      <th>std</th>\n",
       "    </tr>\n",
       "  </thead>\n",
       "  <tbody>\n",
       "    <tr>\n",
       "      <th>precision_at_k</th>\n",
       "      <td>0.243496</td>\n",
       "      <td>0.002085</td>\n",
       "    </tr>\n",
       "    <tr>\n",
       "      <th>recall_at_k</th>\n",
       "      <td>0.795039</td>\n",
       "      <td>0.006808</td>\n",
       "    </tr>\n",
       "  </tbody>\n",
       "</table>\n",
       "</div>"
      ],
      "text/plain": [
       "                    mean       std\n",
       "precision_at_k  0.243496  0.002085\n",
       "recall_at_k     0.795039  0.006808"
      ]
     },
     "metadata": {},
     "output_type": "display_data"
    },
    {
     "name": "stdout",
     "output_type": "stream",
     "text": [
      "{'n_neighbors': 8, 'weights': 'distance', 'algorithm': 'brute', 'leaf_size': 20, 'p': 2}\n"
     ]
    },
    {
     "name": "stderr",
     "output_type": "stream",
     "text": [
      "c:\\users\\rnfavar.embad.000\\miniconda3\\envs\\dev_pa_4\\lib\\site-packages\\sklearn\\base.py:442: UserWarning: X does not have valid feature names, but KNeighborsClassifier was fitted with feature names\n",
      "  \"X does not have valid feature names, but\"\n",
      "c:\\users\\rnfavar.embad.000\\miniconda3\\envs\\dev_pa_4\\lib\\site-packages\\sklearn\\base.py:442: UserWarning: X does not have valid feature names, but KNeighborsClassifier was fitted with feature names\n",
      "  \"X does not have valid feature names, but\"\n",
      "c:\\users\\rnfavar.embad.000\\miniconda3\\envs\\dev_pa_4\\lib\\site-packages\\sklearn\\base.py:442: UserWarning: X does not have valid feature names, but KNeighborsClassifier was fitted with feature names\n",
      "  \"X does not have valid feature names, but\"\n",
      "c:\\users\\rnfavar.embad.000\\miniconda3\\envs\\dev_pa_4\\lib\\site-packages\\sklearn\\base.py:442: UserWarning: X does not have valid feature names, but KNeighborsClassifier was fitted with feature names\n",
      "  \"X does not have valid feature names, but\"\n",
      "c:\\users\\rnfavar.embad.000\\miniconda3\\envs\\dev_pa_4\\lib\\site-packages\\sklearn\\base.py:442: UserWarning: X does not have valid feature names, but KNeighborsClassifier was fitted with feature names\n",
      "  \"X does not have valid feature names, but\"\n",
      "c:\\users\\rnfavar.embad.000\\miniconda3\\envs\\dev_pa_4\\lib\\site-packages\\sklearn\\base.py:442: UserWarning: X does not have valid feature names, but KNeighborsClassifier was fitted with feature names\n",
      "  \"X does not have valid feature names, but\"\n",
      "c:\\users\\rnfavar.embad.000\\miniconda3\\envs\\dev_pa_4\\lib\\site-packages\\sklearn\\base.py:442: UserWarning: X does not have valid feature names, but KNeighborsClassifier was fitted with feature names\n",
      "  \"X does not have valid feature names, but\"\n",
      "c:\\users\\rnfavar.embad.000\\miniconda3\\envs\\dev_pa_4\\lib\\site-packages\\sklearn\\base.py:442: UserWarning: X does not have valid feature names, but KNeighborsClassifier was fitted with feature names\n",
      "  \"X does not have valid feature names, but\"\n",
      "c:\\users\\rnfavar.embad.000\\miniconda3\\envs\\dev_pa_4\\lib\\site-packages\\sklearn\\base.py:442: UserWarning: X does not have valid feature names, but KNeighborsClassifier was fitted with feature names\n",
      "  \"X does not have valid feature names, but\"\n",
      "c:\\users\\rnfavar.embad.000\\miniconda3\\envs\\dev_pa_4\\lib\\site-packages\\sklearn\\base.py:442: UserWarning: X does not have valid feature names, but KNeighborsClassifier was fitted with feature names\n",
      "  \"X does not have valid feature names, but\"\n",
      "c:\\users\\rnfavar.embad.000\\miniconda3\\envs\\dev_pa_4\\lib\\site-packages\\sklearn\\base.py:442: UserWarning: X does not have valid feature names, but KNeighborsClassifier was fitted with feature names\n",
      "  \"X does not have valid feature names, but\"\n",
      "c:\\users\\rnfavar.embad.000\\miniconda3\\envs\\dev_pa_4\\lib\\site-packages\\sklearn\\base.py:442: UserWarning: X does not have valid feature names, but KNeighborsClassifier was fitted with feature names\n",
      "  \"X does not have valid feature names, but\"\n",
      "c:\\users\\rnfavar.embad.000\\miniconda3\\envs\\dev_pa_4\\lib\\site-packages\\sklearn\\base.py:442: UserWarning: X does not have valid feature names, but KNeighborsClassifier was fitted with feature names\n",
      "  \"X does not have valid feature names, but\"\n",
      "c:\\users\\rnfavar.embad.000\\miniconda3\\envs\\dev_pa_4\\lib\\site-packages\\sklearn\\base.py:442: UserWarning: X does not have valid feature names, but KNeighborsClassifier was fitted with feature names\n",
      "  \"X does not have valid feature names, but\"\n",
      "c:\\users\\rnfavar.embad.000\\miniconda3\\envs\\dev_pa_4\\lib\\site-packages\\sklearn\\base.py:442: UserWarning: X does not have valid feature names, but KNeighborsClassifier was fitted with feature names\n",
      "  \"X does not have valid feature names, but\"\n",
      "c:\\users\\rnfavar.embad.000\\miniconda3\\envs\\dev_pa_4\\lib\\site-packages\\sklearn\\base.py:442: UserWarning: X does not have valid feature names, but KNeighborsClassifier was fitted with feature names\n",
      "  \"X does not have valid feature names, but\"\n",
      "c:\\users\\rnfavar.embad.000\\miniconda3\\envs\\dev_pa_4\\lib\\site-packages\\sklearn\\base.py:442: UserWarning: X does not have valid feature names, but KNeighborsClassifier was fitted with feature names\n",
      "  \"X does not have valid feature names, but\"\n",
      "c:\\users\\rnfavar.embad.000\\miniconda3\\envs\\dev_pa_4\\lib\\site-packages\\sklearn\\base.py:442: UserWarning: X does not have valid feature names, but KNeighborsClassifier was fitted with feature names\n",
      "  \"X does not have valid feature names, but\"\n",
      "c:\\users\\rnfavar.embad.000\\miniconda3\\envs\\dev_pa_4\\lib\\site-packages\\sklearn\\base.py:442: UserWarning: X does not have valid feature names, but KNeighborsClassifier was fitted with feature names\n",
      "  \"X does not have valid feature names, but\"\n",
      "c:\\users\\rnfavar.embad.000\\miniconda3\\envs\\dev_pa_4\\lib\\site-packages\\sklearn\\base.py:442: UserWarning: X does not have valid feature names, but KNeighborsClassifier was fitted with feature names\n",
      "  \"X does not have valid feature names, but\"\n"
     ]
    },
    {
     "data": {
      "text/html": [
       "<div>\n",
       "<style scoped>\n",
       "    .dataframe tbody tr th:only-of-type {\n",
       "        vertical-align: middle;\n",
       "    }\n",
       "\n",
       "    .dataframe tbody tr th {\n",
       "        vertical-align: top;\n",
       "    }\n",
       "\n",
       "    .dataframe thead th {\n",
       "        text-align: right;\n",
       "    }\n",
       "</style>\n",
       "<table border=\"1\" class=\"dataframe\">\n",
       "  <thead>\n",
       "    <tr style=\"text-align: right;\">\n",
       "      <th></th>\n",
       "      <th>mean</th>\n",
       "      <th>std</th>\n",
       "    </tr>\n",
       "  </thead>\n",
       "  <tbody>\n",
       "    <tr>\n",
       "      <th>precision_at_k</th>\n",
       "      <td>0.261479</td>\n",
       "      <td>0.001533</td>\n",
       "    </tr>\n",
       "    <tr>\n",
       "      <th>recall_at_k</th>\n",
       "      <td>0.853752</td>\n",
       "      <td>0.004987</td>\n",
       "    </tr>\n",
       "  </tbody>\n",
       "</table>\n",
       "</div>"
      ],
      "text/plain": [
       "                    mean       std\n",
       "precision_at_k  0.261479  0.001533\n",
       "recall_at_k     0.853752  0.004987"
      ]
     },
     "metadata": {},
     "output_type": "display_data"
    },
    {
     "name": "stdout",
     "output_type": "stream",
     "text": [
      "{'n_neighbors': 3, 'weights': 'distance', 'algorithm': 'ball_tree', 'leaf_size': 20, 'p': 1}\n"
     ]
    },
    {
     "name": "stderr",
     "output_type": "stream",
     "text": [
      "c:\\users\\rnfavar.embad.000\\miniconda3\\envs\\dev_pa_4\\lib\\site-packages\\sklearn\\base.py:442: UserWarning: X does not have valid feature names, but KNeighborsClassifier was fitted with feature names\n",
      "  \"X does not have valid feature names, but\"\n",
      "c:\\users\\rnfavar.embad.000\\miniconda3\\envs\\dev_pa_4\\lib\\site-packages\\sklearn\\base.py:442: UserWarning: X does not have valid feature names, but KNeighborsClassifier was fitted with feature names\n",
      "  \"X does not have valid feature names, but\"\n",
      "c:\\users\\rnfavar.embad.000\\miniconda3\\envs\\dev_pa_4\\lib\\site-packages\\sklearn\\base.py:442: UserWarning: X does not have valid feature names, but KNeighborsClassifier was fitted with feature names\n",
      "  \"X does not have valid feature names, but\"\n",
      "c:\\users\\rnfavar.embad.000\\miniconda3\\envs\\dev_pa_4\\lib\\site-packages\\sklearn\\base.py:442: UserWarning: X does not have valid feature names, but KNeighborsClassifier was fitted with feature names\n",
      "  \"X does not have valid feature names, but\"\n",
      "c:\\users\\rnfavar.embad.000\\miniconda3\\envs\\dev_pa_4\\lib\\site-packages\\sklearn\\base.py:442: UserWarning: X does not have valid feature names, but KNeighborsClassifier was fitted with feature names\n",
      "  \"X does not have valid feature names, but\"\n",
      "c:\\users\\rnfavar.embad.000\\miniconda3\\envs\\dev_pa_4\\lib\\site-packages\\sklearn\\base.py:442: UserWarning: X does not have valid feature names, but KNeighborsClassifier was fitted with feature names\n",
      "  \"X does not have valid feature names, but\"\n",
      "c:\\users\\rnfavar.embad.000\\miniconda3\\envs\\dev_pa_4\\lib\\site-packages\\sklearn\\base.py:442: UserWarning: X does not have valid feature names, but KNeighborsClassifier was fitted with feature names\n",
      "  \"X does not have valid feature names, but\"\n",
      "c:\\users\\rnfavar.embad.000\\miniconda3\\envs\\dev_pa_4\\lib\\site-packages\\sklearn\\base.py:442: UserWarning: X does not have valid feature names, but KNeighborsClassifier was fitted with feature names\n",
      "  \"X does not have valid feature names, but\"\n",
      "c:\\users\\rnfavar.embad.000\\miniconda3\\envs\\dev_pa_4\\lib\\site-packages\\sklearn\\base.py:442: UserWarning: X does not have valid feature names, but KNeighborsClassifier was fitted with feature names\n",
      "  \"X does not have valid feature names, but\"\n",
      "c:\\users\\rnfavar.embad.000\\miniconda3\\envs\\dev_pa_4\\lib\\site-packages\\sklearn\\base.py:442: UserWarning: X does not have valid feature names, but KNeighborsClassifier was fitted with feature names\n",
      "  \"X does not have valid feature names, but\"\n",
      "c:\\users\\rnfavar.embad.000\\miniconda3\\envs\\dev_pa_4\\lib\\site-packages\\sklearn\\base.py:442: UserWarning: X does not have valid feature names, but KNeighborsClassifier was fitted with feature names\n",
      "  \"X does not have valid feature names, but\"\n",
      "c:\\users\\rnfavar.embad.000\\miniconda3\\envs\\dev_pa_4\\lib\\site-packages\\sklearn\\base.py:442: UserWarning: X does not have valid feature names, but KNeighborsClassifier was fitted with feature names\n",
      "  \"X does not have valid feature names, but\"\n",
      "c:\\users\\rnfavar.embad.000\\miniconda3\\envs\\dev_pa_4\\lib\\site-packages\\sklearn\\base.py:442: UserWarning: X does not have valid feature names, but KNeighborsClassifier was fitted with feature names\n",
      "  \"X does not have valid feature names, but\"\n",
      "c:\\users\\rnfavar.embad.000\\miniconda3\\envs\\dev_pa_4\\lib\\site-packages\\sklearn\\base.py:442: UserWarning: X does not have valid feature names, but KNeighborsClassifier was fitted with feature names\n",
      "  \"X does not have valid feature names, but\"\n",
      "c:\\users\\rnfavar.embad.000\\miniconda3\\envs\\dev_pa_4\\lib\\site-packages\\sklearn\\base.py:442: UserWarning: X does not have valid feature names, but KNeighborsClassifier was fitted with feature names\n",
      "  \"X does not have valid feature names, but\"\n",
      "c:\\users\\rnfavar.embad.000\\miniconda3\\envs\\dev_pa_4\\lib\\site-packages\\sklearn\\base.py:442: UserWarning: X does not have valid feature names, but KNeighborsClassifier was fitted with feature names\n",
      "  \"X does not have valid feature names, but\"\n",
      "c:\\users\\rnfavar.embad.000\\miniconda3\\envs\\dev_pa_4\\lib\\site-packages\\sklearn\\base.py:442: UserWarning: X does not have valid feature names, but KNeighborsClassifier was fitted with feature names\n",
      "  \"X does not have valid feature names, but\"\n",
      "c:\\users\\rnfavar.embad.000\\miniconda3\\envs\\dev_pa_4\\lib\\site-packages\\sklearn\\base.py:442: UserWarning: X does not have valid feature names, but KNeighborsClassifier was fitted with feature names\n",
      "  \"X does not have valid feature names, but\"\n",
      "c:\\users\\rnfavar.embad.000\\miniconda3\\envs\\dev_pa_4\\lib\\site-packages\\sklearn\\base.py:442: UserWarning: X does not have valid feature names, but KNeighborsClassifier was fitted with feature names\n",
      "  \"X does not have valid feature names, but\"\n",
      "c:\\users\\rnfavar.embad.000\\miniconda3\\envs\\dev_pa_4\\lib\\site-packages\\sklearn\\base.py:442: UserWarning: X does not have valid feature names, but KNeighborsClassifier was fitted with feature names\n",
      "  \"X does not have valid feature names, but\"\n"
     ]
    },
    {
     "data": {
      "text/html": [
       "<div>\n",
       "<style scoped>\n",
       "    .dataframe tbody tr th:only-of-type {\n",
       "        vertical-align: middle;\n",
       "    }\n",
       "\n",
       "    .dataframe tbody tr th {\n",
       "        vertical-align: top;\n",
       "    }\n",
       "\n",
       "    .dataframe thead th {\n",
       "        text-align: right;\n",
       "    }\n",
       "</style>\n",
       "<table border=\"1\" class=\"dataframe\">\n",
       "  <thead>\n",
       "    <tr style=\"text-align: right;\">\n",
       "      <th></th>\n",
       "      <th>mean</th>\n",
       "      <th>std</th>\n",
       "    </tr>\n",
       "  </thead>\n",
       "  <tbody>\n",
       "    <tr>\n",
       "      <th>precision_at_k</th>\n",
       "      <td>0.207946</td>\n",
       "      <td>0.001840</td>\n",
       "    </tr>\n",
       "    <tr>\n",
       "      <th>recall_at_k</th>\n",
       "      <td>0.678963</td>\n",
       "      <td>0.005986</td>\n",
       "    </tr>\n",
       "  </tbody>\n",
       "</table>\n",
       "</div>"
      ],
      "text/plain": [
       "                    mean       std\n",
       "precision_at_k  0.207946  0.001840\n",
       "recall_at_k     0.678963  0.005986"
      ]
     },
     "metadata": {},
     "output_type": "display_data"
    },
    {
     "name": "stdout",
     "output_type": "stream",
     "text": [
      "{'n_neighbors': 5, 'weights': 'distance', 'algorithm': 'brute', 'leaf_size': 40, 'p': 1}\n"
     ]
    },
    {
     "name": "stderr",
     "output_type": "stream",
     "text": [
      "c:\\users\\rnfavar.embad.000\\miniconda3\\envs\\dev_pa_4\\lib\\site-packages\\sklearn\\base.py:442: UserWarning: X does not have valid feature names, but KNeighborsClassifier was fitted with feature names\n",
      "  \"X does not have valid feature names, but\"\n",
      "c:\\users\\rnfavar.embad.000\\miniconda3\\envs\\dev_pa_4\\lib\\site-packages\\sklearn\\base.py:442: UserWarning: X does not have valid feature names, but KNeighborsClassifier was fitted with feature names\n",
      "  \"X does not have valid feature names, but\"\n",
      "c:\\users\\rnfavar.embad.000\\miniconda3\\envs\\dev_pa_4\\lib\\site-packages\\sklearn\\base.py:442: UserWarning: X does not have valid feature names, but KNeighborsClassifier was fitted with feature names\n",
      "  \"X does not have valid feature names, but\"\n",
      "c:\\users\\rnfavar.embad.000\\miniconda3\\envs\\dev_pa_4\\lib\\site-packages\\sklearn\\base.py:442: UserWarning: X does not have valid feature names, but KNeighborsClassifier was fitted with feature names\n",
      "  \"X does not have valid feature names, but\"\n",
      "c:\\users\\rnfavar.embad.000\\miniconda3\\envs\\dev_pa_4\\lib\\site-packages\\sklearn\\base.py:442: UserWarning: X does not have valid feature names, but KNeighborsClassifier was fitted with feature names\n",
      "  \"X does not have valid feature names, but\"\n",
      "c:\\users\\rnfavar.embad.000\\miniconda3\\envs\\dev_pa_4\\lib\\site-packages\\sklearn\\base.py:442: UserWarning: X does not have valid feature names, but KNeighborsClassifier was fitted with feature names\n",
      "  \"X does not have valid feature names, but\"\n",
      "c:\\users\\rnfavar.embad.000\\miniconda3\\envs\\dev_pa_4\\lib\\site-packages\\sklearn\\base.py:442: UserWarning: X does not have valid feature names, but KNeighborsClassifier was fitted with feature names\n",
      "  \"X does not have valid feature names, but\"\n",
      "c:\\users\\rnfavar.embad.000\\miniconda3\\envs\\dev_pa_4\\lib\\site-packages\\sklearn\\base.py:442: UserWarning: X does not have valid feature names, but KNeighborsClassifier was fitted with feature names\n",
      "  \"X does not have valid feature names, but\"\n",
      "c:\\users\\rnfavar.embad.000\\miniconda3\\envs\\dev_pa_4\\lib\\site-packages\\sklearn\\base.py:442: UserWarning: X does not have valid feature names, but KNeighborsClassifier was fitted with feature names\n",
      "  \"X does not have valid feature names, but\"\n",
      "c:\\users\\rnfavar.embad.000\\miniconda3\\envs\\dev_pa_4\\lib\\site-packages\\sklearn\\base.py:442: UserWarning: X does not have valid feature names, but KNeighborsClassifier was fitted with feature names\n",
      "  \"X does not have valid feature names, but\"\n",
      "c:\\users\\rnfavar.embad.000\\miniconda3\\envs\\dev_pa_4\\lib\\site-packages\\sklearn\\base.py:442: UserWarning: X does not have valid feature names, but KNeighborsClassifier was fitted with feature names\n",
      "  \"X does not have valid feature names, but\"\n",
      "c:\\users\\rnfavar.embad.000\\miniconda3\\envs\\dev_pa_4\\lib\\site-packages\\sklearn\\base.py:442: UserWarning: X does not have valid feature names, but KNeighborsClassifier was fitted with feature names\n",
      "  \"X does not have valid feature names, but\"\n",
      "c:\\users\\rnfavar.embad.000\\miniconda3\\envs\\dev_pa_4\\lib\\site-packages\\sklearn\\base.py:442: UserWarning: X does not have valid feature names, but KNeighborsClassifier was fitted with feature names\n",
      "  \"X does not have valid feature names, but\"\n",
      "c:\\users\\rnfavar.embad.000\\miniconda3\\envs\\dev_pa_4\\lib\\site-packages\\sklearn\\base.py:442: UserWarning: X does not have valid feature names, but KNeighborsClassifier was fitted with feature names\n",
      "  \"X does not have valid feature names, but\"\n",
      "c:\\users\\rnfavar.embad.000\\miniconda3\\envs\\dev_pa_4\\lib\\site-packages\\sklearn\\base.py:442: UserWarning: X does not have valid feature names, but KNeighborsClassifier was fitted with feature names\n",
      "  \"X does not have valid feature names, but\"\n",
      "c:\\users\\rnfavar.embad.000\\miniconda3\\envs\\dev_pa_4\\lib\\site-packages\\sklearn\\base.py:442: UserWarning: X does not have valid feature names, but KNeighborsClassifier was fitted with feature names\n",
      "  \"X does not have valid feature names, but\"\n",
      "c:\\users\\rnfavar.embad.000\\miniconda3\\envs\\dev_pa_4\\lib\\site-packages\\sklearn\\base.py:442: UserWarning: X does not have valid feature names, but KNeighborsClassifier was fitted with feature names\n",
      "  \"X does not have valid feature names, but\"\n",
      "c:\\users\\rnfavar.embad.000\\miniconda3\\envs\\dev_pa_4\\lib\\site-packages\\sklearn\\base.py:442: UserWarning: X does not have valid feature names, but KNeighborsClassifier was fitted with feature names\n",
      "  \"X does not have valid feature names, but\"\n",
      "c:\\users\\rnfavar.embad.000\\miniconda3\\envs\\dev_pa_4\\lib\\site-packages\\sklearn\\base.py:442: UserWarning: X does not have valid feature names, but KNeighborsClassifier was fitted with feature names\n",
      "  \"X does not have valid feature names, but\"\n",
      "c:\\users\\rnfavar.embad.000\\miniconda3\\envs\\dev_pa_4\\lib\\site-packages\\sklearn\\base.py:442: UserWarning: X does not have valid feature names, but KNeighborsClassifier was fitted with feature names\n",
      "  \"X does not have valid feature names, but\"\n"
     ]
    },
    {
     "data": {
      "text/html": [
       "<div>\n",
       "<style scoped>\n",
       "    .dataframe tbody tr th:only-of-type {\n",
       "        vertical-align: middle;\n",
       "    }\n",
       "\n",
       "    .dataframe tbody tr th {\n",
       "        vertical-align: top;\n",
       "    }\n",
       "\n",
       "    .dataframe thead th {\n",
       "        text-align: right;\n",
       "    }\n",
       "</style>\n",
       "<table border=\"1\" class=\"dataframe\">\n",
       "  <thead>\n",
       "    <tr style=\"text-align: right;\">\n",
       "      <th></th>\n",
       "      <th>mean</th>\n",
       "      <th>std</th>\n",
       "    </tr>\n",
       "  </thead>\n",
       "  <tbody>\n",
       "    <tr>\n",
       "      <th>precision_at_k</th>\n",
       "      <td>0.237821</td>\n",
       "      <td>0.001773</td>\n",
       "    </tr>\n",
       "    <tr>\n",
       "      <th>recall_at_k</th>\n",
       "      <td>0.776507</td>\n",
       "      <td>0.005792</td>\n",
       "    </tr>\n",
       "  </tbody>\n",
       "</table>\n",
       "</div>"
      ],
      "text/plain": [
       "                    mean       std\n",
       "precision_at_k  0.237821  0.001773\n",
       "recall_at_k     0.776507  0.005792"
      ]
     },
     "metadata": {},
     "output_type": "display_data"
    }
   ],
   "source": [
    "## session with high processing time: 5h 25m 31s\n",
    "## results compiled in the following table\n",
    "\n",
    "param = {\n",
    "    'n_neighbors':  [3,5,8,15],\n",
    "    'weights':  ['uniform', 'distance'], \n",
    "    'algorithm': ['ball_tree', 'kd_tree', 'brute'],\n",
    "    'leaf_size': [20,30,40],\n",
    "    'p': [1,2]\n",
    "}\n",
    "\n",
    "\n",
    "max_eval = 5\n",
    "\n",
    "\n",
    "for i in range(max_eval):\n",
    "    # random choice of dictionary values\n",
    "    hp = {k: random.sample(v,1)[0] for k, v in param.items()}\n",
    "    print(hp)\n",
    "\n",
    "    # model definition\n",
    "    knn_model = neighbors.KNeighborsClassifier(n_neighbors=hp['n_neighbors'],\n",
    "                                               weights = hp['weights'],\n",
    "                                               algorithm=hp['algorithm'],\n",
    "                                               leaf_size = hp['leaf_size'], \n",
    "                                               p =hp['p'], \n",
    "                                               n_jobs= -1)\n",
    "    \n",
    "    \n",
    "    display(cv.runCrossValidation(knn_model, x_train_df5, x_val_ml,y_train_df5,y_val, n_splits = 10, n_repeats = 2, top_k = 12200))\n",
    "    \n"
   ]
  },
  {
   "cell_type": "code",
   "execution_count": 6,
   "id": "21d8776c-96f6-4b32-8b41-1ad52bd53e33",
   "metadata": {
    "execution": {
     "iopub.execute_input": "2021-11-21T12:03:42.519909Z",
     "iopub.status.busy": "2021-11-21T12:03:42.519909Z",
     "iopub.status.idle": "2021-11-21T12:03:42.526908Z",
     "shell.execute_reply": "2021-11-21T12:03:42.526908Z",
     "shell.execute_reply.started": "2021-11-21T12:03:42.519909Z"
    }
   },
   "outputs": [
    {
     "name": "stdout",
     "output_type": "stream",
     "text": [
      "╒═════════╤═══════════════════════╤═══════════════════════╤════════════════════════════════════════════════════════════════════════════════════════════╕\n",
      "│ model   │ precision@k           │ recall@k              │ hyperparameters                                                                            │\n",
      "╞═════════╪═══════════════════════╪═══════════════════════╪════════════════════════════════════════════════════════════════════════════════════════════╡\n",
      "│ #1      │ 0.207938 +/- 0.001899 │ 0.678936 +/- 0.006179 │ 'n_neighbors': 3, 'weights': 'distance', 'algorithm': 'brute', 'leaf_size': 20, 'p': 1     │\n",
      "├─────────┼───────────────────────┼───────────────────────┼────────────────────────────────────────────────────────────────────────────────────────────┤\n",
      "│ #2      │ 0.243496 +/- 0.002085 │ 0.795039 +/- 0.006808 │ 'n_neighbors': 5, 'weights': 'uniform', 'algorithm': 'ball_tree', 'leaf_size': 40, 'p': 2  │\n",
      "├─────────┼───────────────────────┼───────────────────────┼────────────────────────────────────────────────────────────────────────────────────────────┤\n",
      "│ #3      │ 0.261479 +/- 0.001533 │ 0.853752 +/- 0.004987 │ 'n_neighbors': 8, 'weights': 'distance', 'algorithm': 'brute', 'leaf_size': 20, 'p': 2     │\n",
      "├─────────┼───────────────────────┼───────────────────────┼────────────────────────────────────────────────────────────────────────────────────────────┤\n",
      "│ #4      │ 0.207946 +/- 0.001840 │ 0.678963 +/- 0.005986 │ 'n_neighbors': 3, 'weights': 'distance', 'algorithm': 'ball_tree', 'leaf_size': 20, 'p': 1 │\n",
      "├─────────┼───────────────────────┼───────────────────────┼────────────────────────────────────────────────────────────────────────────────────────────┤\n",
      "│ #5      │ 0.237821 +/- 0.001773 │ 0.776507 +/- 0.005792 │ 'n_neighbors': 5, 'weights': 'distance', 'algorithm': 'brute', 'leaf_size': 40, 'p': 1     │\n",
      "╘═════════╧═══════════════════════╧═══════════════════════╧════════════════════════════════════════════════════════════════════════════════════════════╛\n"
     ]
    }
   ],
   "source": [
    "resultados_finais = {'model':['#1', '#2', '#3', '#4', '#5'],\n",
    "                     'precision_at_k': ['0.207938 +/- 0.001899',\n",
    "                                        '0.243496 +/- 0.002085',\n",
    "                                        '0.261479 +/- 0.001533',\n",
    "                                        '0.207946 +/- 0.001840',\n",
    "                                        '0.237821 +/- 0.001773'],\n",
    "                     'recall_at_k': ['0.678936 +/- 0.006179',\n",
    "                                     '0.795039 +/- 0.006808',\n",
    "                                     '0.853752 +/- 0.004987',\n",
    "                                     '0.678963 +/- 0.005986',\n",
    "                                     '0.776507 +/- 0.005792'],\n",
    "                     'Parameters': [\"'n_neighbors': 3, 'weights': 'distance', 'algorithm': 'brute', 'leaf_size': 20, 'p': 1\",\n",
    "                                    \"'n_neighbors': 5, 'weights': 'uniform', 'algorithm': 'ball_tree', 'leaf_size': 40, 'p': 2\",\n",
    "                                    \"'n_neighbors': 8, 'weights': 'distance', 'algorithm': 'brute', 'leaf_size': 20, 'p': 2\",\n",
    "                                    \"'n_neighbors': 3, 'weights': 'distance', 'algorithm': 'ball_tree', 'leaf_size': 20, 'p': 1\",\n",
    "                                    \"'n_neighbors': 5, 'weights': 'distance', 'algorithm': 'brute', 'leaf_size': 40, 'p': 1\"]\n",
    "                       }\n",
    "\n",
    "print(tabulate(resultados_finais, headers=['model','precision@k','recall@k', 'hyperparameters'], tablefmt=\"fancy_grid\"))"
   ]
  },
  {
   "cell_type": "markdown",
   "id": "c0702ec5-d8a2-4057-9758-18aa74d4b72c",
   "metadata": {},
   "source": [
    "The results varied significantly between the different hyperparameter settings, suggesting the need for further adjustment. However, as the performance of all of them was inferior to all the other studied algorithms, we won't do that.\n",
    "For the final assessment, we will choose #3."
   ]
  },
  {
   "cell_type": "markdown",
   "id": "cacce15e-633e-4de8-8070-83a66bdae6d7",
   "metadata": {},
   "source": [
    "# 13.4.1 Model training and ranked list export"
   ]
  },
  {
   "cell_type": "code",
   "execution_count": 13,
   "id": "db012697-2781-42fe-9a2c-248c1c46ba62",
   "metadata": {
    "execution": {
     "iopub.execute_input": "2021-11-21T18:27:31.013714Z",
     "iopub.status.busy": "2021-11-21T18:27:31.013714Z",
     "iopub.status.idle": "2021-11-21T18:35:00.800714Z",
     "shell.execute_reply": "2021-11-21T18:35:00.800714Z",
     "shell.execute_reply.started": "2021-11-21T18:27:31.013714Z"
    },
    "tags": []
   },
   "outputs": [
    {
     "name": "stderr",
     "output_type": "stream",
     "text": [
      "c:\\users\\rnfavar.embad.000\\miniconda3\\envs\\dev_pa_4\\lib\\site-packages\\sklearn\\base.py:442: UserWarning: X does not have valid feature names, but KNeighborsClassifier was fitted with feature names\n",
      "  \"X does not have valid feature names, but\"\n"
     ]
    }
   ],
   "source": [
    "# model definition\n",
    "knn_model = neighbors.KNeighborsClassifier(n_neighbors=8,\n",
    "                                           weights = 'distance',\n",
    "                                           algorithm='brute',\n",
    "                                           leaf_size = 20, \n",
    "                                           p = 2, \n",
    "                                           n_jobs= -1)\n",
    "\n",
    "# model training\n",
    "knn_model.fit(x_train_df5, y_train_df5)\n",
    "\n",
    "# model prediction (proba)\n",
    "yhat_proba = knn_model.predict_proba(x_val_ml)"
   ]
  },
  {
   "cell_type": "code",
   "execution_count": 14,
   "id": "2f3a3c0e-fd76-4ca4-af5e-aeaf870449e1",
   "metadata": {
    "execution": {
     "iopub.execute_input": "2021-11-21T18:35:00.800714Z",
     "iopub.status.busy": "2021-11-21T18:35:00.800714Z",
     "iopub.status.idle": "2021-11-21T18:35:04.816714Z",
     "shell.execute_reply": "2021-11-21T18:35:04.815714Z",
     "shell.execute_reply.started": "2021-11-21T18:35:00.800714Z"
    },
    "tags": []
   },
   "outputs": [
    {
     "data": {
      "image/png": "[encoded data removed]",
      "text/plain": [
       "<Figure size 576x720 with 2 Axes>"
      ]
     },
     "metadata": {
      "needs_background": "light"
     },
     "output_type": "display_data"
    }
   ],
   "source": [
    "table = cv.gain_lift_curve(yhat_proba,y_val)\n",
    "metrics, new_table = cv.precision_recall_at_k(table, 12200)\n",
    "new_table.to_pickle(r\"../data/processed/knn_table.pkl\")"
   ]
  }
 ],
 "metadata": {
  "kernelspec": {
   "display_name": "Python 3 (ipykernel)",
   "language": "python",
   "name": "python3"
  },
  "language_info": {
   "codemirror_mode": {
    "name": "ipython",
    "version": 3
   },
   "file_extension": ".py",
   "mimetype": "text/x-python",
   "name": "python",
   "nbconvert_exporter": "python",
   "pygments_lexer": "ipython3",
   "version": "3.7.11"
  }
 },
 "nbformat": 4,
 "nbformat_minor": 5
}
