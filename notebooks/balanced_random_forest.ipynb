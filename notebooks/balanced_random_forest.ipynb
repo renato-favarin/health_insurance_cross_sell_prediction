{
 "cells": [
  {
   "cell_type": "markdown",
   "id": "01f8f5f7-e11d-4ad5-9760-9a78a0afc803",
   "metadata": {},
   "source": [
    "# Imports"
   ]
  },
  {
   "cell_type": "code",
   "execution_count": 6,
   "id": "1cea9c94-d51f-428f-aced-aacb6b9f4ac1",
   "metadata": {
    "execution": {
     "iopub.execute_input": "2021-11-20T12:47:44.227048Z",
     "iopub.status.busy": "2021-11-20T12:47:44.226048Z",
     "iopub.status.idle": "2021-11-20T12:47:44.229048Z",
     "shell.execute_reply": "2021-11-20T12:47:44.228048Z",
     "shell.execute_reply.started": "2021-11-20T12:47:44.226048Z"
    },
    "tags": []
   },
   "outputs": [],
   "source": [
    "import pandas as pd\n",
    "import numpy as np\n",
    "import cross_validation as cv\n",
    "import random\n",
    "\n",
    "from tabulate import tabulate\n",
    "from cross_validation import runCrossValidation\n",
    "from imblearn.ensemble import BalancedRandomForestClassifier"
   ]
  },
  {
   "cell_type": "markdown",
   "id": "17d70f79-2323-4e63-aa02-160247d78896",
   "metadata": {},
   "source": [
    "# Load data"
   ]
  },
  {
   "cell_type": "code",
   "execution_count": 3,
   "id": "f1250138-0c5f-4583-b5fc-2f8afa4ff2ea",
   "metadata": {
    "execution": {
     "iopub.execute_input": "2021-11-20T12:37:24.416048Z",
     "iopub.status.busy": "2021-11-20T12:37:24.416048Z",
     "iopub.status.idle": "2021-11-20T12:37:24.481048Z",
     "shell.execute_reply": "2021-11-20T12:37:24.481048Z",
     "shell.execute_reply.started": "2021-11-20T12:37:24.416048Z"
    },
    "tags": []
   },
   "outputs": [],
   "source": [
    "#train\n",
    "x_train_df5 = pd.read_pickle(r'../data/interim/x_train_df5_round1.pkl')\n",
    "y_train_df5 = pd.read_pickle(r'../data/interim/y_train_df5_round1.pkl')\n",
    "\n",
    "#validation\n",
    "x_val_ml = pd.read_pickle(r'../data/interim/x_val_ml_round1.pkl')\n",
    "y_val = pd.read_pickle(r'../data/interim/y_val_round1.pkl')\n",
    "\n",
    "#test\n",
    "x_test = pd.read_pickle(r'../data/interim/x_test_round1.pkl')\n",
    "y_test = pd.read_pickle(r'../data/interim/y_test_round1.pkl')"
   ]
  },
  {
   "cell_type": "markdown",
   "id": "d3ea3865-60c7-4126-8d62-4d0fbbff51e6",
   "metadata": {},
   "source": [
    "# 13.2 Balanced random forest classifier"
   ]
  },
  {
   "cell_type": "code",
   "execution_count": 18,
   "id": "a84e4663-7962-4570-b516-efea2fe18d8b",
   "metadata": {
    "execution": {
     "iopub.execute_input": "2021-11-20T12:53:00.284048Z",
     "iopub.status.busy": "2021-11-20T12:53:00.284048Z",
     "iopub.status.idle": "2021-11-20T13:27:34.721048Z",
     "shell.execute_reply": "2021-11-20T13:27:34.721048Z",
     "shell.execute_reply.started": "2021-11-20T12:53:00.284048Z"
    },
    "tags": []
   },
   "outputs": [
    {
     "name": "stdout",
     "output_type": "stream",
     "text": [
      "{'n_estimators': 200, 'min_samples_split': 3, 'max_depth': 5, 'min_samples_leaf': 3, 'sampling_strategy': 0.14, 'replacement': False}\n"
     ]
    },
    {
     "data": {
      "text/html": [
       "<div>\n",
       "<style scoped>\n",
       "    .dataframe tbody tr th:only-of-type {\n",
       "        vertical-align: middle;\n",
       "    }\n",
       "\n",
       "    .dataframe tbody tr th {\n",
       "        vertical-align: top;\n",
       "    }\n",
       "\n",
       "    .dataframe thead th {\n",
       "        text-align: right;\n",
       "    }\n",
       "</style>\n",
       "<table border=\"1\" class=\"dataframe\">\n",
       "  <thead>\n",
       "    <tr style=\"text-align: right;\">\n",
       "      <th></th>\n",
       "      <th>mean</th>\n",
       "      <th>std</th>\n",
       "    </tr>\n",
       "  </thead>\n",
       "  <tbody>\n",
       "    <tr>\n",
       "      <th>precision_at_k</th>\n",
       "      <td>0.280280</td>\n",
       "      <td>0.001732</td>\n",
       "    </tr>\n",
       "    <tr>\n",
       "      <th>recall_at_k</th>\n",
       "      <td>0.915141</td>\n",
       "      <td>0.005660</td>\n",
       "    </tr>\n",
       "  </tbody>\n",
       "</table>\n",
       "</div>"
      ],
      "text/plain": [
       "                    mean       std\n",
       "precision_at_k  0.280280  0.001732\n",
       "recall_at_k     0.915141  0.005660"
      ]
     },
     "metadata": {},
     "output_type": "display_data"
    },
    {
     "name": "stdout",
     "output_type": "stream",
     "text": [
      "{'n_estimators': 300, 'min_samples_split': 2, 'max_depth': 9, 'min_samples_leaf': 1, 'sampling_strategy': 0.14, 'replacement': False}\n"
     ]
    },
    {
     "data": {
      "text/html": [
       "<div>\n",
       "<style scoped>\n",
       "    .dataframe tbody tr th:only-of-type {\n",
       "        vertical-align: middle;\n",
       "    }\n",
       "\n",
       "    .dataframe tbody tr th {\n",
       "        vertical-align: top;\n",
       "    }\n",
       "\n",
       "    .dataframe thead th {\n",
       "        text-align: right;\n",
       "    }\n",
       "</style>\n",
       "<table border=\"1\" class=\"dataframe\">\n",
       "  <thead>\n",
       "    <tr style=\"text-align: right;\">\n",
       "      <th></th>\n",
       "      <th>mean</th>\n",
       "      <th>std</th>\n",
       "    </tr>\n",
       "  </thead>\n",
       "  <tbody>\n",
       "    <tr>\n",
       "      <th>precision_at_k</th>\n",
       "      <td>0.282047</td>\n",
       "      <td>0.001549</td>\n",
       "    </tr>\n",
       "    <tr>\n",
       "      <th>recall_at_k</th>\n",
       "      <td>0.920908</td>\n",
       "      <td>0.005070</td>\n",
       "    </tr>\n",
       "  </tbody>\n",
       "</table>\n",
       "</div>"
      ],
      "text/plain": [
       "                    mean       std\n",
       "precision_at_k  0.282047  0.001549\n",
       "recall_at_k     0.920908  0.005070"
      ]
     },
     "metadata": {},
     "output_type": "display_data"
    },
    {
     "name": "stdout",
     "output_type": "stream",
     "text": [
      "{'n_estimators': 400, 'min_samples_split': 4, 'max_depth': 3, 'min_samples_leaf': 2, 'sampling_strategy': 'auto', 'replacement': False}\n"
     ]
    },
    {
     "data": {
      "text/html": [
       "<div>\n",
       "<style scoped>\n",
       "    .dataframe tbody tr th:only-of-type {\n",
       "        vertical-align: middle;\n",
       "    }\n",
       "\n",
       "    .dataframe tbody tr th {\n",
       "        vertical-align: top;\n",
       "    }\n",
       "\n",
       "    .dataframe thead th {\n",
       "        text-align: right;\n",
       "    }\n",
       "</style>\n",
       "<table border=\"1\" class=\"dataframe\">\n",
       "  <thead>\n",
       "    <tr style=\"text-align: right;\">\n",
       "      <th></th>\n",
       "      <th>mean</th>\n",
       "      <th>std</th>\n",
       "    </tr>\n",
       "  </thead>\n",
       "  <tbody>\n",
       "    <tr>\n",
       "      <th>precision_at_k</th>\n",
       "      <td>0.279178</td>\n",
       "      <td>0.001459</td>\n",
       "    </tr>\n",
       "    <tr>\n",
       "      <th>recall_at_k</th>\n",
       "      <td>0.911542</td>\n",
       "      <td>0.004774</td>\n",
       "    </tr>\n",
       "  </tbody>\n",
       "</table>\n",
       "</div>"
      ],
      "text/plain": [
       "                    mean       std\n",
       "precision_at_k  0.279178  0.001459\n",
       "recall_at_k     0.911542  0.004774"
      ]
     },
     "metadata": {},
     "output_type": "display_data"
    },
    {
     "name": "stdout",
     "output_type": "stream",
     "text": [
      "{'n_estimators': 100, 'min_samples_split': 2, 'max_depth': 5, 'min_samples_leaf': 2, 'sampling_strategy': 0.2, 'replacement': False}\n"
     ]
    },
    {
     "data": {
      "text/html": [
       "<div>\n",
       "<style scoped>\n",
       "    .dataframe tbody tr th:only-of-type {\n",
       "        vertical-align: middle;\n",
       "    }\n",
       "\n",
       "    .dataframe tbody tr th {\n",
       "        vertical-align: top;\n",
       "    }\n",
       "\n",
       "    .dataframe thead th {\n",
       "        text-align: right;\n",
       "    }\n",
       "</style>\n",
       "<table border=\"1\" class=\"dataframe\">\n",
       "  <thead>\n",
       "    <tr style=\"text-align: right;\">\n",
       "      <th></th>\n",
       "      <th>mean</th>\n",
       "      <th>std</th>\n",
       "    </tr>\n",
       "  </thead>\n",
       "  <tbody>\n",
       "    <tr>\n",
       "      <th>precision_at_k</th>\n",
       "      <td>0.280362</td>\n",
       "      <td>0.001647</td>\n",
       "    </tr>\n",
       "    <tr>\n",
       "      <th>recall_at_k</th>\n",
       "      <td>0.915409</td>\n",
       "      <td>0.005384</td>\n",
       "    </tr>\n",
       "  </tbody>\n",
       "</table>\n",
       "</div>"
      ],
      "text/plain": [
       "                    mean       std\n",
       "precision_at_k  0.280362  0.001647\n",
       "recall_at_k     0.915409  0.005384"
      ]
     },
     "metadata": {},
     "output_type": "display_data"
    },
    {
     "name": "stdout",
     "output_type": "stream",
     "text": [
      "{'n_estimators': 300, 'min_samples_split': 4, 'max_depth': 5, 'min_samples_leaf': 2, 'sampling_strategy': 'auto', 'replacement': True}\n"
     ]
    },
    {
     "data": {
      "text/html": [
       "<div>\n",
       "<style scoped>\n",
       "    .dataframe tbody tr th:only-of-type {\n",
       "        vertical-align: middle;\n",
       "    }\n",
       "\n",
       "    .dataframe tbody tr th {\n",
       "        vertical-align: top;\n",
       "    }\n",
       "\n",
       "    .dataframe thead th {\n",
       "        text-align: right;\n",
       "    }\n",
       "</style>\n",
       "<table border=\"1\" class=\"dataframe\">\n",
       "  <thead>\n",
       "    <tr style=\"text-align: right;\">\n",
       "      <th></th>\n",
       "      <th>mean</th>\n",
       "      <th>std</th>\n",
       "    </tr>\n",
       "  </thead>\n",
       "  <tbody>\n",
       "    <tr>\n",
       "      <th>precision_at_k</th>\n",
       "      <td>0.280706</td>\n",
       "      <td>0.001565</td>\n",
       "    </tr>\n",
       "    <tr>\n",
       "      <th>recall_at_k</th>\n",
       "      <td>0.916533</td>\n",
       "      <td>0.005139</td>\n",
       "    </tr>\n",
       "  </tbody>\n",
       "</table>\n",
       "</div>"
      ],
      "text/plain": [
       "                    mean       std\n",
       "precision_at_k  0.280706  0.001565\n",
       "recall_at_k     0.916533  0.005139"
      ]
     },
     "metadata": {},
     "output_type": "display_data"
    }
   ],
   "source": [
    "## session with high processing time: 34m 34.44s\n",
    "## results compiled in the following table\n",
    "\n",
    "param = {\n",
    "    'n_estimators':  [100, 200, 300, 400, 500],\n",
    "    'min_samples_split':  [2,3,4], \n",
    "    'max_depth': [3,5,9],\n",
    "    'min_samples_leaf': [1,2,3],\n",
    "    'sampling_strategy': ['auto', 0.14, 0.17, 0.2],\n",
    "    'replacement': [False, True]\n",
    "}\n",
    "\n",
    "\n",
    "max_eval = 5\n",
    "\n",
    "\n",
    "for i in range(max_eval):\n",
    "    # random choice of dictionary values\n",
    "    hp = {k: random.sample(v,1)[0] for k, v in param.items()}\n",
    "    print(hp)\n",
    "\n",
    "    # model definition\n",
    "    balrf_model = BalancedRandomForestClassifier(n_estimators = hp['n_estimators'], \n",
    "                                                 min_samples_split = hp['min_samples_split'],\n",
    "                                                 max_depth = hp['max_depth'],\n",
    "                                                 min_samples_leaf = hp['min_samples_leaf'],\n",
    "                                                 sampling_strategy = hp['sampling_strategy'],\n",
    "                                                 replacement = hp['replacement'],\n",
    "                                                 n_jobs = -1)\n",
    "    \n",
    "    display(cv.runCrossValidation(balrf_model, x_train_df5, x_val_ml,y_train_df5,y_val, n_splits = 10, n_repeats = 2, top_k = 12200))\n",
    "    \n",
    "\n",
    "\n"
   ]
  },
  {
   "cell_type": "code",
   "execution_count": 19,
   "id": "88aafc71-9efd-4f2f-b02d-e0eed42b501b",
   "metadata": {
    "execution": {
     "iopub.execute_input": "2021-11-20T14:01:02.044048Z",
     "iopub.status.busy": "2021-11-20T14:01:02.043048Z",
     "iopub.status.idle": "2021-11-20T14:01:02.051048Z",
     "shell.execute_reply": "2021-11-20T14:01:02.051048Z",
     "shell.execute_reply.started": "2021-11-20T14:01:02.043048Z"
    }
   },
   "outputs": [
    {
     "name": "stdout",
     "output_type": "stream",
     "text": [
      "╒═════════╤═══════════════════════╤═══════════════════════╤═══════════════════════════════════════════════════════════════════════════════════════════════════════════════════════════════════════╕\n",
      "│ model   │ precision@k           │ recall@k              │ hyperparameters                                                                                                                       │\n",
      "╞═════════╪═══════════════════════╪═══════════════════════╪═══════════════════════════════════════════════════════════════════════════════════════════════════════════════════════════════════════╡\n",
      "│ #1      │ 0.280280 +/- 0.001732 │ 0.915141 +/- 0.005660 │ 'n_estimators': 200, 'min_samples_split': 3, 'max_depth': 5, 'min_samples_leaf': 3, 'sampling_strategy': 0.14, 'replacement': False   │\n",
      "├─────────┼───────────────────────┼───────────────────────┼───────────────────────────────────────────────────────────────────────────────────────────────────────────────────────────────────────┤\n",
      "│ #2      │ 0.282047 +/- 0.001549 │ 0.920908 +/- 0.005070 │ 'n_estimators': 300, 'min_samples_split': 2, 'max_depth': 9, 'min_samples_leaf': 1, 'sampling_strategy': 0.14, 'replacement': False   │\n",
      "├─────────┼───────────────────────┼───────────────────────┼───────────────────────────────────────────────────────────────────────────────────────────────────────────────────────────────────────┤\n",
      "│ #3      │ 0.279178 +/- 0.001459 │ 0.911542 +/- 0.004774 │ 'n_estimators': 400, 'min_samples_split': 4, 'max_depth': 3, 'min_samples_leaf': 2, 'sampling_strategy': 'auto', 'replacement': False │\n",
      "├─────────┼───────────────────────┼───────────────────────┼───────────────────────────────────────────────────────────────────────────────────────────────────────────────────────────────────────┤\n",
      "│ #4      │ 0.280362 +/- 0.001647 │ 0.915409 +/- 0.005384 │ 'n_estimators': 100, 'min_samples_split': 2, 'max_depth': 5, 'min_samples_leaf': 2, 'sampling_strategy': 0.2, 'replacement': False    │\n",
      "├─────────┼───────────────────────┼───────────────────────┼───────────────────────────────────────────────────────────────────────────────────────────────────────────────────────────────────────┤\n",
      "│ #5      │ 0.280706 +/- 0.001565 │ 0.916533 +/- 0.005139 │ 'n_estimators': 300, 'min_samples_split': 4, 'max_depth': 5, 'min_samples_leaf': 2, 'sampling_strategy': 'auto', 'replacement': True  │\n",
      "╘═════════╧═══════════════════════╧═══════════════════════╧═══════════════════════════════════════════════════════════════════════════════════════════════════════════════════════════════════════╛\n"
     ]
    }
   ],
   "source": [
    "resultados_finais = {'model':['#1', '#2', '#3', '#4', '#5'],\n",
    "                     'precision_at_k': ['0.280280 +/- 0.001732',\n",
    "                                        '0.282047 +/- 0.001549',\n",
    "                                        '0.279178 +/- 0.001459',\n",
    "                                        '0.280362 +/- 0.001647',\n",
    "                                        '0.280706 +/- 0.001565'],\n",
    "                     'recall_at_k': ['0.915141 +/- 0.005660',\n",
    "                                     '0.920908 +/- 0.005070',\n",
    "                                     '0.911542 +/- 0.004774',\n",
    "                                     '0.915409 +/- 0.005384',\n",
    "                                     '0.916533 +/- 0.005139'],\n",
    "                     'Parameters': [\"'n_estimators': 200, 'min_samples_split': 3, 'max_depth': 5, 'min_samples_leaf': 3, 'sampling_strategy': 0.14, 'replacement': False\",\n",
    "                                    \"'n_estimators': 300, 'min_samples_split': 2, 'max_depth': 9, 'min_samples_leaf': 1, 'sampling_strategy': 0.14, 'replacement': False\",\n",
    "                                    \"'n_estimators': 400, 'min_samples_split': 4, 'max_depth': 3, 'min_samples_leaf': 2, 'sampling_strategy': 'auto', 'replacement': False\",\n",
    "                                    \"'n_estimators': 100, 'min_samples_split': 2, 'max_depth': 5, 'min_samples_leaf': 2, 'sampling_strategy': 0.2, 'replacement': False\",\n",
    "                                    \"'n_estimators': 300, 'min_samples_split': 4, 'max_depth': 5, 'min_samples_leaf': 2, 'sampling_strategy': 'auto', 'replacement': True\"]\n",
    "                       }\n",
    "\n",
    "print(tabulate(resultados_finais, headers=['model','precision@k','recall@k', 'hyperparameters'], tablefmt=\"fancy_grid\"))"
   ]
  },
  {
   "cell_type": "markdown",
   "id": "9eb9ce64-7933-4c02-af9b-6564b51ef5db",
   "metadata": {},
   "source": [
    "The results were similar between the different hyperparameter configurations. For the final evaluation, we will choose #2."
   ]
  },
  {
   "cell_type": "markdown",
   "id": "a1d487e0-18b8-4731-af3e-37c507c18e8f",
   "metadata": {},
   "source": [
    "# 13.2.1 Model training and ranked list export"
   ]
  },
  {
   "cell_type": "code",
   "execution_count": 26,
   "id": "428ccdf3-6a14-4b7e-92c3-c512ad7dafbd",
   "metadata": {
    "execution": {
     "iopub.execute_input": "2021-11-21T18:36:02.816714Z",
     "iopub.status.busy": "2021-11-21T18:36:02.816714Z",
     "iopub.status.idle": "2021-11-21T18:36:40.096714Z",
     "shell.execute_reply": "2021-11-21T18:36:40.095714Z",
     "shell.execute_reply.started": "2021-11-21T18:36:02.816714Z"
    },
    "tags": []
   },
   "outputs": [],
   "source": [
    " # model definition\n",
    "balrf_model = BalancedRandomForestClassifier(n_estimators = 300, \n",
    "                                             min_samples_split = 2,\n",
    "                                             max_depth = 9,\n",
    "                                             min_samples_leaf = 1,\n",
    "                                             sampling_strategy = 0.14,\n",
    "                                             replacement = False,\n",
    "                                             n_jobs = -1)\n",
    "\n",
    "# model training\n",
    "balrf_model.fit(x_train_df5, y_train_df5)\n",
    "\n",
    "# model prediction (proba)\n",
    "yhat_proba = balrf_model.predict_proba(x_val_ml)"
   ]
  },
  {
   "cell_type": "code",
   "execution_count": 27,
   "id": "d2febd30-8e0b-4f72-a964-2ba1fa6b2a78",
   "metadata": {
    "execution": {
     "iopub.execute_input": "2021-11-21T18:36:40.098714Z",
     "iopub.status.busy": "2021-11-21T18:36:40.098714Z",
     "iopub.status.idle": "2021-11-21T18:36:44.297714Z",
     "shell.execute_reply": "2021-11-21T18:36:44.296714Z",
     "shell.execute_reply.started": "2021-11-21T18:36:40.098714Z"
    },
    "tags": []
   },
   "outputs": [
    {
     "data": {
      "image/png": "[encoded data removed]",
      "text/plain": [
       "<Figure size 576x720 with 2 Axes>"
      ]
     },
     "metadata": {
      "needs_background": "light"
     },
     "output_type": "display_data"
    }
   ],
   "source": [
    "table = cv.gain_lift_curve(yhat_proba,y_val)\n",
    "metrics, new_table = cv.precision_recall_at_k(table, 12200)\n",
    "new_table.to_pickle(r\"../data/processed/balrf_table.pkl\")"
   ]
  }
 ],
 "metadata": {
  "kernelspec": {
   "display_name": "Python 3 (ipykernel)",
   "language": "python",
   "name": "python3"
  },
  "language_info": {
   "codemirror_mode": {
    "name": "ipython",
    "version": 3
   },
   "file_extension": ".py",
   "mimetype": "text/x-python",
   "name": "python",
   "nbconvert_exporter": "python",
   "pygments_lexer": "ipython3",
   "version": "3.7.11"
  }
 },
 "nbformat": 4,
 "nbformat_minor": 5
}
