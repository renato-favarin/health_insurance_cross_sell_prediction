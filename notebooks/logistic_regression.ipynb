{
 "cells": [
  {
   "cell_type": "markdown",
   "id": "bcd82d6e-590a-4cae-b0e2-b312f1f23872",
   "metadata": {},
   "source": [
    "# Imports"
   ]
  },
  {
   "cell_type": "code",
   "execution_count": 1,
   "id": "84f0dc84-beb6-4ce9-a663-2288b67f2835",
   "metadata": {
    "execution": {
     "iopub.execute_input": "2021-11-20T14:04:22.951061Z",
     "iopub.status.busy": "2021-11-20T14:04:22.951061Z",
     "iopub.status.idle": "2021-11-20T14:04:31.557902Z",
     "shell.execute_reply": "2021-11-20T14:04:31.556902Z",
     "shell.execute_reply.started": "2021-11-20T14:04:22.951061Z"
    }
   },
   "outputs": [],
   "source": [
    "import pandas as pd\n",
    "import numpy as np\n",
    "import cross_validation as cv\n",
    "import random\n",
    "\n",
    "from tabulate import tabulate\n",
    "from cross_validation import runCrossValidation\n",
    "from sklearn.linear_model import LogisticRegression"
   ]
  },
  {
   "cell_type": "markdown",
   "id": "31a45de3-db40-44ac-8541-fbf900e98f47",
   "metadata": {},
   "source": [
    "# Load data"
   ]
  },
  {
   "cell_type": "code",
   "execution_count": 2,
   "id": "2610e503-98cc-47ba-9f29-b44263560a0f",
   "metadata": {
    "execution": {
     "iopub.execute_input": "2021-11-20T14:04:31.559903Z",
     "iopub.status.busy": "2021-11-20T14:04:31.558903Z",
     "iopub.status.idle": "2021-11-20T14:04:31.637910Z",
     "shell.execute_reply": "2021-11-20T14:04:31.636910Z",
     "shell.execute_reply.started": "2021-11-20T14:04:31.559903Z"
    }
   },
   "outputs": [],
   "source": [
    "#train\n",
    "x_train_df5 = pd.read_pickle(r'../data/interim/x_train_df5_round1.pkl')\n",
    "y_train_df5 = pd.read_pickle(r'../data/interim/y_train_df5_round1.pkl')\n",
    "\n",
    "#validation\n",
    "x_val_ml = pd.read_pickle(r'../data/interim/x_val_ml_round1.pkl')\n",
    "y_val = pd.read_pickle(r'../data/interim/y_val_round1.pkl')\n"
   ]
  },
  {
   "cell_type": "markdown",
   "id": "bc8a43bf-fb54-4025-8b7f-ea347cb86032",
   "metadata": {},
   "source": [
    "# 13.3 Logistic regression"
   ]
  },
  {
   "cell_type": "code",
   "execution_count": null,
   "id": "261c70ab-1014-43d9-a173-4c65a8c168d8",
   "metadata": {},
   "outputs": [],
   "source": [
    "\n",
    "# model definition\n",
    "lr_model = lr(max_iter=200)\n",
    "\n",
    "# model training\n",
    "lr_model.fit(x_train_df5, y_train_df5)\n",
    "\n",
    "# model prediction (proba)\n",
    "yhat_proba_lr = lr_model.predict_proba(x_val_ml)\n",
    "\n",
    "# model prediction (value)\n",
    "yhat_lr_value_predict = lr_model.predict(x_val_ml)"
   ]
  },
  {
   "cell_type": "code",
   "execution_count": 10,
   "id": "b0106b04-f1ad-41ea-b00b-90041082cafd",
   "metadata": {
    "execution": {
     "iopub.execute_input": "2021-11-21T18:05:52.108072Z",
     "iopub.status.busy": "2021-11-21T18:05:52.108072Z",
     "iopub.status.idle": "2021-11-21T18:19:41.247714Z",
     "shell.execute_reply": "2021-11-21T18:19:41.247714Z",
     "shell.execute_reply.started": "2021-11-21T18:05:52.108072Z"
    },
    "tags": []
   },
   "outputs": [
    {
     "name": "stdout",
     "output_type": "stream",
     "text": [
      "{'penalty': 'none', 'C': 0.5, 'solver': 'lbfgs', 'class_weight': None}\n"
     ]
    },
    {
     "name": "stderr",
     "output_type": "stream",
     "text": [
      "c:\\users\\rnfavar.embad.000\\miniconda3\\envs\\dev_pa_4\\lib\\site-packages\\sklearn\\linear_model\\_logistic.py:1484: UserWarning: Setting penalty='none' will ignore the C and l1_ratio parameters\n",
      "  \"Setting penalty='none' will ignore the C and l1_ratio parameters\"\n",
      "c:\\users\\rnfavar.embad.000\\miniconda3\\envs\\dev_pa_4\\lib\\site-packages\\sklearn\\linear_model\\_logistic.py:1484: UserWarning: Setting penalty='none' will ignore the C and l1_ratio parameters\n",
      "  \"Setting penalty='none' will ignore the C and l1_ratio parameters\"\n",
      "c:\\users\\rnfavar.embad.000\\miniconda3\\envs\\dev_pa_4\\lib\\site-packages\\sklearn\\linear_model\\_logistic.py:1484: UserWarning: Setting penalty='none' will ignore the C and l1_ratio parameters\n",
      "  \"Setting penalty='none' will ignore the C and l1_ratio parameters\"\n",
      "c:\\users\\rnfavar.embad.000\\miniconda3\\envs\\dev_pa_4\\lib\\site-packages\\sklearn\\linear_model\\_logistic.py:1484: UserWarning: Setting penalty='none' will ignore the C and l1_ratio parameters\n",
      "  \"Setting penalty='none' will ignore the C and l1_ratio parameters\"\n",
      "c:\\users\\rnfavar.embad.000\\miniconda3\\envs\\dev_pa_4\\lib\\site-packages\\sklearn\\linear_model\\_logistic.py:1484: UserWarning: Setting penalty='none' will ignore the C and l1_ratio parameters\n",
      "  \"Setting penalty='none' will ignore the C and l1_ratio parameters\"\n",
      "c:\\users\\rnfavar.embad.000\\miniconda3\\envs\\dev_pa_4\\lib\\site-packages\\sklearn\\linear_model\\_logistic.py:1484: UserWarning: Setting penalty='none' will ignore the C and l1_ratio parameters\n",
      "  \"Setting penalty='none' will ignore the C and l1_ratio parameters\"\n",
      "c:\\users\\rnfavar.embad.000\\miniconda3\\envs\\dev_pa_4\\lib\\site-packages\\sklearn\\linear_model\\_logistic.py:1484: UserWarning: Setting penalty='none' will ignore the C and l1_ratio parameters\n",
      "  \"Setting penalty='none' will ignore the C and l1_ratio parameters\"\n",
      "c:\\users\\rnfavar.embad.000\\miniconda3\\envs\\dev_pa_4\\lib\\site-packages\\sklearn\\linear_model\\_logistic.py:1484: UserWarning: Setting penalty='none' will ignore the C and l1_ratio parameters\n",
      "  \"Setting penalty='none' will ignore the C and l1_ratio parameters\"\n",
      "c:\\users\\rnfavar.embad.000\\miniconda3\\envs\\dev_pa_4\\lib\\site-packages\\sklearn\\linear_model\\_logistic.py:1484: UserWarning: Setting penalty='none' will ignore the C and l1_ratio parameters\n",
      "  \"Setting penalty='none' will ignore the C and l1_ratio parameters\"\n",
      "c:\\users\\rnfavar.embad.000\\miniconda3\\envs\\dev_pa_4\\lib\\site-packages\\sklearn\\linear_model\\_logistic.py:1484: UserWarning: Setting penalty='none' will ignore the C and l1_ratio parameters\n",
      "  \"Setting penalty='none' will ignore the C and l1_ratio parameters\"\n",
      "c:\\users\\rnfavar.embad.000\\miniconda3\\envs\\dev_pa_4\\lib\\site-packages\\sklearn\\linear_model\\_logistic.py:1484: UserWarning: Setting penalty='none' will ignore the C and l1_ratio parameters\n",
      "  \"Setting penalty='none' will ignore the C and l1_ratio parameters\"\n",
      "c:\\users\\rnfavar.embad.000\\miniconda3\\envs\\dev_pa_4\\lib\\site-packages\\sklearn\\linear_model\\_logistic.py:1484: UserWarning: Setting penalty='none' will ignore the C and l1_ratio parameters\n",
      "  \"Setting penalty='none' will ignore the C and l1_ratio parameters\"\n",
      "c:\\users\\rnfavar.embad.000\\miniconda3\\envs\\dev_pa_4\\lib\\site-packages\\sklearn\\linear_model\\_logistic.py:1484: UserWarning: Setting penalty='none' will ignore the C and l1_ratio parameters\n",
      "  \"Setting penalty='none' will ignore the C and l1_ratio parameters\"\n",
      "c:\\users\\rnfavar.embad.000\\miniconda3\\envs\\dev_pa_4\\lib\\site-packages\\sklearn\\linear_model\\_logistic.py:1484: UserWarning: Setting penalty='none' will ignore the C and l1_ratio parameters\n",
      "  \"Setting penalty='none' will ignore the C and l1_ratio parameters\"\n",
      "c:\\users\\rnfavar.embad.000\\miniconda3\\envs\\dev_pa_4\\lib\\site-packages\\sklearn\\linear_model\\_logistic.py:1484: UserWarning: Setting penalty='none' will ignore the C and l1_ratio parameters\n",
      "  \"Setting penalty='none' will ignore the C and l1_ratio parameters\"\n",
      "c:\\users\\rnfavar.embad.000\\miniconda3\\envs\\dev_pa_4\\lib\\site-packages\\sklearn\\linear_model\\_logistic.py:1484: UserWarning: Setting penalty='none' will ignore the C and l1_ratio parameters\n",
      "  \"Setting penalty='none' will ignore the C and l1_ratio parameters\"\n",
      "c:\\users\\rnfavar.embad.000\\miniconda3\\envs\\dev_pa_4\\lib\\site-packages\\sklearn\\linear_model\\_logistic.py:1484: UserWarning: Setting penalty='none' will ignore the C and l1_ratio parameters\n",
      "  \"Setting penalty='none' will ignore the C and l1_ratio parameters\"\n",
      "c:\\users\\rnfavar.embad.000\\miniconda3\\envs\\dev_pa_4\\lib\\site-packages\\sklearn\\linear_model\\_logistic.py:1484: UserWarning: Setting penalty='none' will ignore the C and l1_ratio parameters\n",
      "  \"Setting penalty='none' will ignore the C and l1_ratio parameters\"\n",
      "c:\\users\\rnfavar.embad.000\\miniconda3\\envs\\dev_pa_4\\lib\\site-packages\\sklearn\\linear_model\\_logistic.py:1484: UserWarning: Setting penalty='none' will ignore the C and l1_ratio parameters\n",
      "  \"Setting penalty='none' will ignore the C and l1_ratio parameters\"\n",
      "c:\\users\\rnfavar.embad.000\\miniconda3\\envs\\dev_pa_4\\lib\\site-packages\\sklearn\\linear_model\\_logistic.py:1484: UserWarning: Setting penalty='none' will ignore the C and l1_ratio parameters\n",
      "  \"Setting penalty='none' will ignore the C and l1_ratio parameters\"\n"
     ]
    },
    {
     "data": {
      "text/html": [
       "<div>\n",
       "<style scoped>\n",
       "    .dataframe tbody tr th:only-of-type {\n",
       "        vertical-align: middle;\n",
       "    }\n",
       "\n",
       "    .dataframe tbody tr th {\n",
       "        vertical-align: top;\n",
       "    }\n",
       "\n",
       "    .dataframe thead th {\n",
       "        text-align: right;\n",
       "    }\n",
       "</style>\n",
       "<table border=\"1\" class=\"dataframe\">\n",
       "  <thead>\n",
       "    <tr style=\"text-align: right;\">\n",
       "      <th></th>\n",
       "      <th>mean</th>\n",
       "      <th>std</th>\n",
       "    </tr>\n",
       "  </thead>\n",
       "  <tbody>\n",
       "    <tr>\n",
       "      <th>precision_at_k</th>\n",
       "      <td>0.272834</td>\n",
       "      <td>0.001617</td>\n",
       "    </tr>\n",
       "    <tr>\n",
       "      <th>recall_at_k</th>\n",
       "      <td>0.890829</td>\n",
       "      <td>0.005291</td>\n",
       "    </tr>\n",
       "  </tbody>\n",
       "</table>\n",
       "</div>"
      ],
      "text/plain": [
       "                    mean       std\n",
       "precision_at_k  0.272834  0.001617\n",
       "recall_at_k     0.890829  0.005291"
      ]
     },
     "metadata": {},
     "output_type": "display_data"
    },
    {
     "name": "stdout",
     "output_type": "stream",
     "text": [
      "{'penalty': 'none', 'C': 1, 'solver': 'sag', 'class_weight': 'balanced'}\n"
     ]
    },
    {
     "data": {
      "text/html": [
       "<div>\n",
       "<style scoped>\n",
       "    .dataframe tbody tr th:only-of-type {\n",
       "        vertical-align: middle;\n",
       "    }\n",
       "\n",
       "    .dataframe tbody tr th {\n",
       "        vertical-align: top;\n",
       "    }\n",
       "\n",
       "    .dataframe thead th {\n",
       "        text-align: right;\n",
       "    }\n",
       "</style>\n",
       "<table border=\"1\" class=\"dataframe\">\n",
       "  <thead>\n",
       "    <tr style=\"text-align: right;\">\n",
       "      <th></th>\n",
       "      <th>mean</th>\n",
       "      <th>std</th>\n",
       "    </tr>\n",
       "  </thead>\n",
       "  <tbody>\n",
       "    <tr>\n",
       "      <th>precision_at_k</th>\n",
       "      <td>0.273359</td>\n",
       "      <td>0.001332</td>\n",
       "    </tr>\n",
       "    <tr>\n",
       "      <th>recall_at_k</th>\n",
       "      <td>0.892542</td>\n",
       "      <td>0.004376</td>\n",
       "    </tr>\n",
       "  </tbody>\n",
       "</table>\n",
       "</div>"
      ],
      "text/plain": [
       "                    mean       std\n",
       "precision_at_k  0.273359  0.001332\n",
       "recall_at_k     0.892542  0.004376"
      ]
     },
     "metadata": {},
     "output_type": "display_data"
    },
    {
     "name": "stdout",
     "output_type": "stream",
     "text": [
      "{'penalty': 'none', 'C': 0.5, 'solver': 'newton-cg', 'class_weight': None}\n"
     ]
    },
    {
     "name": "stderr",
     "output_type": "stream",
     "text": [
      "c:\\users\\rnfavar.embad.000\\miniconda3\\envs\\dev_pa_4\\lib\\site-packages\\sklearn\\linear_model\\_logistic.py:1484: UserWarning: Setting penalty='none' will ignore the C and l1_ratio parameters\n",
      "  \"Setting penalty='none' will ignore the C and l1_ratio parameters\"\n",
      "c:\\users\\rnfavar.embad.000\\miniconda3\\envs\\dev_pa_4\\lib\\site-packages\\sklearn\\linear_model\\_logistic.py:1484: UserWarning: Setting penalty='none' will ignore the C and l1_ratio parameters\n",
      "  \"Setting penalty='none' will ignore the C and l1_ratio parameters\"\n",
      "c:\\users\\rnfavar.embad.000\\miniconda3\\envs\\dev_pa_4\\lib\\site-packages\\sklearn\\linear_model\\_logistic.py:1484: UserWarning: Setting penalty='none' will ignore the C and l1_ratio parameters\n",
      "  \"Setting penalty='none' will ignore the C and l1_ratio parameters\"\n",
      "c:\\users\\rnfavar.embad.000\\miniconda3\\envs\\dev_pa_4\\lib\\site-packages\\sklearn\\linear_model\\_logistic.py:1484: UserWarning: Setting penalty='none' will ignore the C and l1_ratio parameters\n",
      "  \"Setting penalty='none' will ignore the C and l1_ratio parameters\"\n",
      "c:\\users\\rnfavar.embad.000\\miniconda3\\envs\\dev_pa_4\\lib\\site-packages\\sklearn\\linear_model\\_logistic.py:1484: UserWarning: Setting penalty='none' will ignore the C and l1_ratio parameters\n",
      "  \"Setting penalty='none' will ignore the C and l1_ratio parameters\"\n",
      "c:\\users\\rnfavar.embad.000\\miniconda3\\envs\\dev_pa_4\\lib\\site-packages\\sklearn\\linear_model\\_logistic.py:1484: UserWarning: Setting penalty='none' will ignore the C and l1_ratio parameters\n",
      "  \"Setting penalty='none' will ignore the C and l1_ratio parameters\"\n",
      "c:\\users\\rnfavar.embad.000\\miniconda3\\envs\\dev_pa_4\\lib\\site-packages\\sklearn\\linear_model\\_logistic.py:1484: UserWarning: Setting penalty='none' will ignore the C and l1_ratio parameters\n",
      "  \"Setting penalty='none' will ignore the C and l1_ratio parameters\"\n",
      "c:\\users\\rnfavar.embad.000\\miniconda3\\envs\\dev_pa_4\\lib\\site-packages\\sklearn\\linear_model\\_logistic.py:1484: UserWarning: Setting penalty='none' will ignore the C and l1_ratio parameters\n",
      "  \"Setting penalty='none' will ignore the C and l1_ratio parameters\"\n",
      "c:\\users\\rnfavar.embad.000\\miniconda3\\envs\\dev_pa_4\\lib\\site-packages\\sklearn\\linear_model\\_logistic.py:1484: UserWarning: Setting penalty='none' will ignore the C and l1_ratio parameters\n",
      "  \"Setting penalty='none' will ignore the C and l1_ratio parameters\"\n",
      "c:\\users\\rnfavar.embad.000\\miniconda3\\envs\\dev_pa_4\\lib\\site-packages\\sklearn\\linear_model\\_logistic.py:1484: UserWarning: Setting penalty='none' will ignore the C and l1_ratio parameters\n",
      "  \"Setting penalty='none' will ignore the C and l1_ratio parameters\"\n",
      "c:\\users\\rnfavar.embad.000\\miniconda3\\envs\\dev_pa_4\\lib\\site-packages\\sklearn\\linear_model\\_logistic.py:1484: UserWarning: Setting penalty='none' will ignore the C and l1_ratio parameters\n",
      "  \"Setting penalty='none' will ignore the C and l1_ratio parameters\"\n",
      "c:\\users\\rnfavar.embad.000\\miniconda3\\envs\\dev_pa_4\\lib\\site-packages\\sklearn\\linear_model\\_logistic.py:1484: UserWarning: Setting penalty='none' will ignore the C and l1_ratio parameters\n",
      "  \"Setting penalty='none' will ignore the C and l1_ratio parameters\"\n",
      "c:\\users\\rnfavar.embad.000\\miniconda3\\envs\\dev_pa_4\\lib\\site-packages\\sklearn\\linear_model\\_logistic.py:1484: UserWarning: Setting penalty='none' will ignore the C and l1_ratio parameters\n",
      "  \"Setting penalty='none' will ignore the C and l1_ratio parameters\"\n",
      "c:\\users\\rnfavar.embad.000\\miniconda3\\envs\\dev_pa_4\\lib\\site-packages\\sklearn\\linear_model\\_logistic.py:1484: UserWarning: Setting penalty='none' will ignore the C and l1_ratio parameters\n",
      "  \"Setting penalty='none' will ignore the C and l1_ratio parameters\"\n",
      "c:\\users\\rnfavar.embad.000\\miniconda3\\envs\\dev_pa_4\\lib\\site-packages\\sklearn\\linear_model\\_logistic.py:1484: UserWarning: Setting penalty='none' will ignore the C and l1_ratio parameters\n",
      "  \"Setting penalty='none' will ignore the C and l1_ratio parameters\"\n",
      "c:\\users\\rnfavar.embad.000\\miniconda3\\envs\\dev_pa_4\\lib\\site-packages\\sklearn\\linear_model\\_logistic.py:1484: UserWarning: Setting penalty='none' will ignore the C and l1_ratio parameters\n",
      "  \"Setting penalty='none' will ignore the C and l1_ratio parameters\"\n",
      "c:\\users\\rnfavar.embad.000\\miniconda3\\envs\\dev_pa_4\\lib\\site-packages\\sklearn\\linear_model\\_logistic.py:1484: UserWarning: Setting penalty='none' will ignore the C and l1_ratio parameters\n",
      "  \"Setting penalty='none' will ignore the C and l1_ratio parameters\"\n",
      "c:\\users\\rnfavar.embad.000\\miniconda3\\envs\\dev_pa_4\\lib\\site-packages\\sklearn\\linear_model\\_logistic.py:1484: UserWarning: Setting penalty='none' will ignore the C and l1_ratio parameters\n",
      "  \"Setting penalty='none' will ignore the C and l1_ratio parameters\"\n",
      "c:\\users\\rnfavar.embad.000\\miniconda3\\envs\\dev_pa_4\\lib\\site-packages\\sklearn\\linear_model\\_logistic.py:1484: UserWarning: Setting penalty='none' will ignore the C and l1_ratio parameters\n",
      "  \"Setting penalty='none' will ignore the C and l1_ratio parameters\"\n",
      "c:\\users\\rnfavar.embad.000\\miniconda3\\envs\\dev_pa_4\\lib\\site-packages\\sklearn\\linear_model\\_logistic.py:1484: UserWarning: Setting penalty='none' will ignore the C and l1_ratio parameters\n",
      "  \"Setting penalty='none' will ignore the C and l1_ratio parameters\"\n"
     ]
    },
    {
     "data": {
      "text/html": [
       "<div>\n",
       "<style scoped>\n",
       "    .dataframe tbody tr th:only-of-type {\n",
       "        vertical-align: middle;\n",
       "    }\n",
       "\n",
       "    .dataframe tbody tr th {\n",
       "        vertical-align: top;\n",
       "    }\n",
       "\n",
       "    .dataframe thead th {\n",
       "        text-align: right;\n",
       "    }\n",
       "</style>\n",
       "<table border=\"1\" class=\"dataframe\">\n",
       "  <thead>\n",
       "    <tr style=\"text-align: right;\">\n",
       "      <th></th>\n",
       "      <th>mean</th>\n",
       "      <th>std</th>\n",
       "    </tr>\n",
       "  </thead>\n",
       "  <tbody>\n",
       "    <tr>\n",
       "      <th>precision_at_k</th>\n",
       "      <td>0.272826</td>\n",
       "      <td>0.001613</td>\n",
       "    </tr>\n",
       "    <tr>\n",
       "      <th>recall_at_k</th>\n",
       "      <td>0.890802</td>\n",
       "      <td>0.005274</td>\n",
       "    </tr>\n",
       "  </tbody>\n",
       "</table>\n",
       "</div>"
      ],
      "text/plain": [
       "                    mean       std\n",
       "precision_at_k  0.272826  0.001613\n",
       "recall_at_k     0.890802  0.005274"
      ]
     },
     "metadata": {},
     "output_type": "display_data"
    },
    {
     "name": "stdout",
     "output_type": "stream",
     "text": [
      "{'penalty': 'l2', 'C': 10, 'solver': 'newton-cg', 'class_weight': 'balanced'}\n"
     ]
    },
    {
     "data": {
      "text/html": [
       "<div>\n",
       "<style scoped>\n",
       "    .dataframe tbody tr th:only-of-type {\n",
       "        vertical-align: middle;\n",
       "    }\n",
       "\n",
       "    .dataframe tbody tr th {\n",
       "        vertical-align: top;\n",
       "    }\n",
       "\n",
       "    .dataframe thead th {\n",
       "        text-align: right;\n",
       "    }\n",
       "</style>\n",
       "<table border=\"1\" class=\"dataframe\">\n",
       "  <thead>\n",
       "    <tr style=\"text-align: right;\">\n",
       "      <th></th>\n",
       "      <th>mean</th>\n",
       "      <th>std</th>\n",
       "    </tr>\n",
       "  </thead>\n",
       "  <tbody>\n",
       "    <tr>\n",
       "      <th>precision_at_k</th>\n",
       "      <td>0.273346</td>\n",
       "      <td>0.001593</td>\n",
       "    </tr>\n",
       "    <tr>\n",
       "      <th>recall_at_k</th>\n",
       "      <td>0.892502</td>\n",
       "      <td>0.005208</td>\n",
       "    </tr>\n",
       "  </tbody>\n",
       "</table>\n",
       "</div>"
      ],
      "text/plain": [
       "                    mean       std\n",
       "precision_at_k  0.273346  0.001593\n",
       "recall_at_k     0.892502  0.005208"
      ]
     },
     "metadata": {},
     "output_type": "display_data"
    },
    {
     "name": "stdout",
     "output_type": "stream",
     "text": [
      "{'penalty': 'none', 'C': 100, 'solver': 'newton-cg', 'class_weight': None}\n"
     ]
    },
    {
     "name": "stderr",
     "output_type": "stream",
     "text": [
      "c:\\users\\rnfavar.embad.000\\miniconda3\\envs\\dev_pa_4\\lib\\site-packages\\sklearn\\linear_model\\_logistic.py:1484: UserWarning: Setting penalty='none' will ignore the C and l1_ratio parameters\n",
      "  \"Setting penalty='none' will ignore the C and l1_ratio parameters\"\n",
      "c:\\users\\rnfavar.embad.000\\miniconda3\\envs\\dev_pa_4\\lib\\site-packages\\sklearn\\linear_model\\_logistic.py:1484: UserWarning: Setting penalty='none' will ignore the C and l1_ratio parameters\n",
      "  \"Setting penalty='none' will ignore the C and l1_ratio parameters\"\n",
      "c:\\users\\rnfavar.embad.000\\miniconda3\\envs\\dev_pa_4\\lib\\site-packages\\sklearn\\linear_model\\_logistic.py:1484: UserWarning: Setting penalty='none' will ignore the C and l1_ratio parameters\n",
      "  \"Setting penalty='none' will ignore the C and l1_ratio parameters\"\n",
      "c:\\users\\rnfavar.embad.000\\miniconda3\\envs\\dev_pa_4\\lib\\site-packages\\sklearn\\linear_model\\_logistic.py:1484: UserWarning: Setting penalty='none' will ignore the C and l1_ratio parameters\n",
      "  \"Setting penalty='none' will ignore the C and l1_ratio parameters\"\n",
      "c:\\users\\rnfavar.embad.000\\miniconda3\\envs\\dev_pa_4\\lib\\site-packages\\sklearn\\linear_model\\_logistic.py:1484: UserWarning: Setting penalty='none' will ignore the C and l1_ratio parameters\n",
      "  \"Setting penalty='none' will ignore the C and l1_ratio parameters\"\n",
      "c:\\users\\rnfavar.embad.000\\miniconda3\\envs\\dev_pa_4\\lib\\site-packages\\sklearn\\linear_model\\_logistic.py:1484: UserWarning: Setting penalty='none' will ignore the C and l1_ratio parameters\n",
      "  \"Setting penalty='none' will ignore the C and l1_ratio parameters\"\n",
      "c:\\users\\rnfavar.embad.000\\miniconda3\\envs\\dev_pa_4\\lib\\site-packages\\sklearn\\linear_model\\_logistic.py:1484: UserWarning: Setting penalty='none' will ignore the C and l1_ratio parameters\n",
      "  \"Setting penalty='none' will ignore the C and l1_ratio parameters\"\n",
      "c:\\users\\rnfavar.embad.000\\miniconda3\\envs\\dev_pa_4\\lib\\site-packages\\sklearn\\linear_model\\_logistic.py:1484: UserWarning: Setting penalty='none' will ignore the C and l1_ratio parameters\n",
      "  \"Setting penalty='none' will ignore the C and l1_ratio parameters\"\n",
      "c:\\users\\rnfavar.embad.000\\miniconda3\\envs\\dev_pa_4\\lib\\site-packages\\sklearn\\linear_model\\_logistic.py:1484: UserWarning: Setting penalty='none' will ignore the C and l1_ratio parameters\n",
      "  \"Setting penalty='none' will ignore the C and l1_ratio parameters\"\n",
      "c:\\users\\rnfavar.embad.000\\miniconda3\\envs\\dev_pa_4\\lib\\site-packages\\sklearn\\linear_model\\_logistic.py:1484: UserWarning: Setting penalty='none' will ignore the C and l1_ratio parameters\n",
      "  \"Setting penalty='none' will ignore the C and l1_ratio parameters\"\n",
      "c:\\users\\rnfavar.embad.000\\miniconda3\\envs\\dev_pa_4\\lib\\site-packages\\sklearn\\linear_model\\_logistic.py:1484: UserWarning: Setting penalty='none' will ignore the C and l1_ratio parameters\n",
      "  \"Setting penalty='none' will ignore the C and l1_ratio parameters\"\n",
      "c:\\users\\rnfavar.embad.000\\miniconda3\\envs\\dev_pa_4\\lib\\site-packages\\sklearn\\linear_model\\_logistic.py:1484: UserWarning: Setting penalty='none' will ignore the C and l1_ratio parameters\n",
      "  \"Setting penalty='none' will ignore the C and l1_ratio parameters\"\n",
      "c:\\users\\rnfavar.embad.000\\miniconda3\\envs\\dev_pa_4\\lib\\site-packages\\sklearn\\linear_model\\_logistic.py:1484: UserWarning: Setting penalty='none' will ignore the C and l1_ratio parameters\n",
      "  \"Setting penalty='none' will ignore the C and l1_ratio parameters\"\n",
      "c:\\users\\rnfavar.embad.000\\miniconda3\\envs\\dev_pa_4\\lib\\site-packages\\sklearn\\linear_model\\_logistic.py:1484: UserWarning: Setting penalty='none' will ignore the C and l1_ratio parameters\n",
      "  \"Setting penalty='none' will ignore the C and l1_ratio parameters\"\n",
      "c:\\users\\rnfavar.embad.000\\miniconda3\\envs\\dev_pa_4\\lib\\site-packages\\sklearn\\linear_model\\_logistic.py:1484: UserWarning: Setting penalty='none' will ignore the C and l1_ratio parameters\n",
      "  \"Setting penalty='none' will ignore the C and l1_ratio parameters\"\n",
      "c:\\users\\rnfavar.embad.000\\miniconda3\\envs\\dev_pa_4\\lib\\site-packages\\sklearn\\linear_model\\_logistic.py:1484: UserWarning: Setting penalty='none' will ignore the C and l1_ratio parameters\n",
      "  \"Setting penalty='none' will ignore the C and l1_ratio parameters\"\n",
      "c:\\users\\rnfavar.embad.000\\miniconda3\\envs\\dev_pa_4\\lib\\site-packages\\sklearn\\linear_model\\_logistic.py:1484: UserWarning: Setting penalty='none' will ignore the C and l1_ratio parameters\n",
      "  \"Setting penalty='none' will ignore the C and l1_ratio parameters\"\n",
      "c:\\users\\rnfavar.embad.000\\miniconda3\\envs\\dev_pa_4\\lib\\site-packages\\sklearn\\linear_model\\_logistic.py:1484: UserWarning: Setting penalty='none' will ignore the C and l1_ratio parameters\n",
      "  \"Setting penalty='none' will ignore the C and l1_ratio parameters\"\n",
      "c:\\users\\rnfavar.embad.000\\miniconda3\\envs\\dev_pa_4\\lib\\site-packages\\sklearn\\linear_model\\_logistic.py:1484: UserWarning: Setting penalty='none' will ignore the C and l1_ratio parameters\n",
      "  \"Setting penalty='none' will ignore the C and l1_ratio parameters\"\n",
      "c:\\users\\rnfavar.embad.000\\miniconda3\\envs\\dev_pa_4\\lib\\site-packages\\sklearn\\linear_model\\_logistic.py:1484: UserWarning: Setting penalty='none' will ignore the C and l1_ratio parameters\n",
      "  \"Setting penalty='none' will ignore the C and l1_ratio parameters\"\n"
     ]
    },
    {
     "data": {
      "text/html": [
       "<div>\n",
       "<style scoped>\n",
       "    .dataframe tbody tr th:only-of-type {\n",
       "        vertical-align: middle;\n",
       "    }\n",
       "\n",
       "    .dataframe tbody tr th {\n",
       "        vertical-align: top;\n",
       "    }\n",
       "\n",
       "    .dataframe thead th {\n",
       "        text-align: right;\n",
       "    }\n",
       "</style>\n",
       "<table border=\"1\" class=\"dataframe\">\n",
       "  <thead>\n",
       "    <tr style=\"text-align: right;\">\n",
       "      <th></th>\n",
       "      <th>mean</th>\n",
       "      <th>std</th>\n",
       "    </tr>\n",
       "  </thead>\n",
       "  <tbody>\n",
       "    <tr>\n",
       "      <th>precision_at_k</th>\n",
       "      <td>0.272826</td>\n",
       "      <td>0.001613</td>\n",
       "    </tr>\n",
       "    <tr>\n",
       "      <th>recall_at_k</th>\n",
       "      <td>0.890802</td>\n",
       "      <td>0.005274</td>\n",
       "    </tr>\n",
       "  </tbody>\n",
       "</table>\n",
       "</div>"
      ],
      "text/plain": [
       "                    mean       std\n",
       "precision_at_k  0.272826  0.001613\n",
       "recall_at_k     0.890802  0.005274"
      ]
     },
     "metadata": {},
     "output_type": "display_data"
    }
   ],
   "source": [
    "## session with high processing time: 13m 39.03s\n",
    "## results compiled in the following table\n",
    "\n",
    "param = {\n",
    "    'penalty':  ['l2', 'none'],\n",
    "    'C':  [0.5, 1, 10, 100], \n",
    "    'solver': ['newton-cg', 'lbfgs', 'sag'],\n",
    "    'class_weight': [None, 'balanced']\n",
    "}\n",
    "\n",
    "\n",
    "max_eval = 5\n",
    "\n",
    "\n",
    "for i in range(max_eval):\n",
    "    # random choice of dictionary values\n",
    "    hp = {k: random.sample(v,1)[0] for k, v in param.items()}\n",
    "    print(hp)\n",
    "\n",
    "    # model definition\n",
    "    lr_model = LogisticRegression(penalty = hp['penalty'],\n",
    "                                  C = hp['C'], \n",
    "                                  solver = hp['solver'],\n",
    "                                  class_weight = hp['class_weight'],\n",
    "                                  max_iter = 1000,\n",
    "                                  n_jobs= -1)\n",
    "\n",
    "    display(cv.runCrossValidation(lr_model, x_train_df5, x_val_ml,y_train_df5,y_val, n_splits = 10, n_repeats = 2, top_k = 12200))"
   ]
  },
  {
   "cell_type": "code",
   "execution_count": 21,
   "id": "fd66b434-b380-4900-9280-0a1277087149",
   "metadata": {
    "execution": {
     "iopub.execute_input": "2021-11-22T00:33:59.570366Z",
     "iopub.status.busy": "2021-11-22T00:33:59.570366Z",
     "iopub.status.idle": "2021-11-22T00:33:59.576366Z",
     "shell.execute_reply": "2021-11-22T00:33:59.576366Z",
     "shell.execute_reply.started": "2021-11-22T00:33:59.570366Z"
    },
    "tags": []
   },
   "outputs": [
    {
     "name": "stdout",
     "output_type": "stream",
     "text": [
      "╒═════════╤═══════════════════════╤═══════════════════════╤═════════════════════════════════════════════════════════════════════════════╕\n",
      "│ model   │ precision@k           │ recall@k              │ hyperparameters                                                             │\n",
      "╞═════════╪═══════════════════════╪═══════════════════════╪═════════════════════════════════════════════════════════════════════════════╡\n",
      "│ #1      │ 0.272834 +/- 0.001617 │ 0.890829 +/- 0.005291 │ 'penalty': 'none', 'C': 0.5, 'solver': 'lbfgs', 'class_weight': None        │\n",
      "├─────────┼───────────────────────┼───────────────────────┼─────────────────────────────────────────────────────────────────────────────┤\n",
      "│ #2      │ 0.273359 +/- 0.001332 │ 0.892542 +/- 0.004376 │ 'penalty': 'none', 'C': 1, 'solver': 'sag', 'class_weight': 'balanced'      │\n",
      "├─────────┼───────────────────────┼───────────────────────┼─────────────────────────────────────────────────────────────────────────────┤\n",
      "│ #3      │ 0.272826 +/- 0.001613 │ 0.890802 +/- 0.005274 │ 'penalty': 'none', 'C': 0.5, 'solver': 'newton-cg', 'class_weight': None    │\n",
      "├─────────┼───────────────────────┼───────────────────────┼─────────────────────────────────────────────────────────────────────────────┤\n",
      "│ #4      │ 0.273346 +/- 0.001593 │ 0.892502 +/- 0.005208 │ 'penalty': 'l2', 'C': 10, 'solver': 'newton-cg', 'class_weight': 'balanced' │\n",
      "├─────────┼───────────────────────┼───────────────────────┼─────────────────────────────────────────────────────────────────────────────┤\n",
      "│ #5      │ 0.272826 +/- 0.001613 │ 0.890802 +/- 0.005274 │ 'penalty': 'none', 'C': 100, 'solver': 'newton-cg', 'class_weight': None    │\n",
      "╘═════════╧═══════════════════════╧═══════════════════════╧═════════════════════════════════════════════════════════════════════════════╛\n"
     ]
    }
   ],
   "source": [
    "final_results = {'model':['#1', '#2', '#3', '#4', '#5'],\n",
    "                 'precision_at_k': ['0.272834 +/- 0.001617',\n",
    "                                    '0.273359 +/- 0.001332',\n",
    "                                    '0.272826 +/- 0.001613',\n",
    "                                    '0.273346 +/- 0.001593',\n",
    "                                    '0.272826 +/- 0.001613'],\n",
    "                 'recall_at_k': ['0.890829 +/- 0.005291',\n",
    "                                 '0.892542 +/- 0.004376',\n",
    "                                 '0.890802 +/- 0.005274',\n",
    "                                 '0.892502 +/- 0.005208',\n",
    "                                 '0.890802 +/- 0.005274'],\n",
    "                 'parameters': [\"'penalty': 'none', 'C': 0.5, 'solver': 'lbfgs', 'class_weight': None\",\n",
    "                                \"'penalty': 'none', 'C': 1, 'solver': 'sag', 'class_weight': 'balanced'\",\n",
    "                                \"'penalty': 'none', 'C': 0.5, 'solver': 'newton-cg', 'class_weight': None\",\n",
    "                                \"'penalty': 'l2', 'C': 10, 'solver': 'newton-cg', 'class_weight': 'balanced'\",\n",
    "                                \"'penalty': 'none', 'C': 100, 'solver': 'newton-cg', 'class_weight': None\"]\n",
    "                }\n",
    "\n",
    "print(tabulate(final_results, headers=['model','precision@k','recall@k', 'hyperparameters'], tablefmt=\"fancy_grid\"))"
   ]
  },
  {
   "cell_type": "markdown",
   "id": "12ec79aa-cbd3-45dc-8463-316d1b0cd341",
   "metadata": {},
   "source": [
    "The results were similar between the different hyperparameter configurations. For the final evaluation, we will choose #2."
   ]
  },
  {
   "cell_type": "markdown",
   "id": "6ce39bf1-de16-4716-b1d6-4c75404f890c",
   "metadata": {
    "execution": {
     "iopub.execute_input": "2021-11-21T17:57:49.266665Z",
     "iopub.status.busy": "2021-11-21T17:57:49.266665Z",
     "iopub.status.idle": "2021-11-21T17:57:49.269665Z",
     "shell.execute_reply": "2021-11-21T17:57:49.268665Z",
     "shell.execute_reply.started": "2021-11-21T17:57:49.266665Z"
    }
   },
   "source": [
    "# 13.3.1 Model training and ranked list export"
   ]
  },
  {
   "cell_type": "code",
   "execution_count": 17,
   "id": "37da0746-9acc-406c-8755-59815d4d25e0",
   "metadata": {
    "execution": {
     "iopub.execute_input": "2021-11-21T18:35:42.172714Z",
     "iopub.status.busy": "2021-11-21T18:35:42.171714Z",
     "iopub.status.idle": "2021-11-21T18:35:44.389714Z",
     "shell.execute_reply": "2021-11-21T18:35:44.389714Z",
     "shell.execute_reply.started": "2021-11-21T18:35:42.172714Z"
    },
    "tags": []
   },
   "outputs": [],
   "source": [
    "# model definition\n",
    "# when setting penalty='none' there is no need to input C parameter\n",
    "lr_model = LogisticRegression(penalty = 'none',\n",
    "                              solver = 'sag',\n",
    "                              class_weight = 'balanced',\n",
    "                              max_iter = 1000,\n",
    "                              n_jobs=-1)\n",
    "\n",
    "# model training\n",
    "lr_model.fit(x_train_df5, y_train_df5)\n",
    "\n",
    "# model prediction (proba)\n",
    "yhat_proba = lr_model.predict_proba(x_val_ml)"
   ]
  },
  {
   "cell_type": "code",
   "execution_count": 18,
   "id": "d037efc8-ebb3-455d-a294-0e3b92339346",
   "metadata": {
    "execution": {
     "iopub.execute_input": "2021-11-21T18:35:45.283714Z",
     "iopub.status.busy": "2021-11-21T18:35:45.282714Z",
     "iopub.status.idle": "2021-11-21T18:35:49.574714Z",
     "shell.execute_reply": "2021-11-21T18:35:49.574714Z",
     "shell.execute_reply.started": "2021-11-21T18:35:45.283714Z"
    },
    "tags": []
   },
   "outputs": [
    {
     "data": {
      "image/png": "[encoded data removed]",
      "text/plain": [
       "<Figure size 576x720 with 2 Axes>"
      ]
     },
     "metadata": {
      "needs_background": "light"
     },
     "output_type": "display_data"
    }
   ],
   "source": [
    "table = cv.gain_lift_curve(yhat_proba,y_val)\n",
    "metrics, new_table = cv.precision_recall_at_k(table, 12200)\n",
    "new_table.to_pickle(r\"../data/processed/lr_table.pkl\")"
   ]
  },
  {
   "cell_type": "code",
   "execution_count": 19,
   "id": "4414dd1d-fce1-41f2-829a-0bb7014d663b",
   "metadata": {
    "execution": {
     "iopub.execute_input": "2021-11-21T18:49:33.422714Z",
     "iopub.status.busy": "2021-11-21T18:49:33.422714Z",
     "iopub.status.idle": "2021-11-21T18:49:33.428714Z",
     "shell.execute_reply": "2021-11-21T18:49:33.428714Z",
     "shell.execute_reply.started": "2021-11-21T18:49:33.422714Z"
    }
   },
   "outputs": [
    {
     "data": {
      "text/plain": [
       "(0.27112531759691827, 0.8852020337168852)"
      ]
     },
     "execution_count": 19,
     "metadata": {},
     "output_type": "execute_result"
    }
   ],
   "source": [
    "metrics"
   ]
  }
 ],
 "metadata": {
  "kernelspec": {
   "display_name": "Python 3 (ipykernel)",
   "language": "python",
   "name": "python3"
  },
  "language_info": {
   "codemirror_mode": {
    "name": "ipython",
    "version": 3
   },
   "file_extension": ".py",
   "mimetype": "text/x-python",
   "name": "python",
   "nbconvert_exporter": "python",
   "pygments_lexer": "ipython3",
   "version": "3.7.11"
  }
 },
 "nbformat": 4,
 "nbformat_minor": 5
}
