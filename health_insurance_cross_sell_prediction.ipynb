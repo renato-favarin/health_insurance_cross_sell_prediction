{
 "cells": [
  {
   "cell_type": "markdown",
   "id": "10b2cee6-dfad-4487-a758-02f4e19283f4",
   "metadata": {},
   "source": [
    "# 0. Imports"
   ]
  },
  {
   "cell_type": "code",
   "execution_count": 3,
   "id": "27ee1022-8325-458a-a6d2-8d185fa03a42",
   "metadata": {
    "execution": {
     "iopub.execute_input": "2021-09-24T10:39:09.820568Z",
     "iopub.status.busy": "2021-09-24T10:39:09.819569Z",
     "iopub.status.idle": "2021-09-24T10:39:09.824564Z",
     "shell.execute_reply": "2021-09-24T10:39:09.823565Z",
     "shell.execute_reply.started": "2021-09-24T10:39:09.820568Z"
    },
    "tags": []
   },
   "outputs": [],
   "source": [
    "import config as creds\n",
    "import pandas as pd\n",
    "\n",
    "# also possible using sqlalchemy\n",
    "import psycopg2\n"
   ]
  },
  {
   "cell_type": "markdown",
   "id": "30606a26-1940-4389-b906-93927d803de5",
   "metadata": {},
   "source": [
    "## 0.1 Helper functions"
   ]
  },
  {
   "cell_type": "code",
   "execution_count": 14,
   "id": "ed964ffd-e88c-4f2e-b6a9-19f58dd25539",
   "metadata": {
    "execution": {
     "iopub.execute_input": "2021-09-27T01:06:58.344104Z",
     "iopub.status.busy": "2021-09-27T01:06:58.343104Z",
     "iopub.status.idle": "2021-09-27T01:06:58.347104Z",
     "shell.execute_reply": "2021-09-27T01:06:58.347104Z",
     "shell.execute_reply.started": "2021-09-27T01:06:58.344104Z"
    },
    "tags": []
   },
   "outputs": [],
   "source": [
    "def connect():\n",
    "    \n",
    "    # set up a connection to the postgres server.\n",
    "    conn_string = (\"host=\"+ creds.PGHOST +\\\n",
    "                   \" port=\"+ \"5432\" +\\\n",
    "                   \" dbname=\"+ creds.PGDATABASE +\\\n",
    "                   \" user=\" + creds.PGUSER+ \\\n",
    "                   \" password=\"+ creds.PGPASSWORD)\n",
    "    \n",
    "    conn = psycopg2.connect(conn_string)\n",
    "\n",
    "    # create a cursor object\n",
    "    # used to perform queries\n",
    "    cursor = conn.cursor()\n",
    "    \n",
    "    return conn, cursor\n"
   ]
  },
  {
   "cell_type": "markdown",
   "id": "cb0faa96-a000-483a-8f67-9728befd551f",
   "metadata": {},
   "source": [
    "# 1.0 Schema query"
   ]
  },
  {
   "cell_type": "code",
   "execution_count": 12,
   "id": "edc46083-bcb7-4757-80b4-4ef888c31ea4",
   "metadata": {
    "execution": {
     "iopub.execute_input": "2021-09-27T01:02:41.480104Z",
     "iopub.status.busy": "2021-09-27T01:02:41.479104Z",
     "iopub.status.idle": "2021-09-27T01:02:42.745104Z",
     "shell.execute_reply": "2021-09-27T01:02:42.744104Z",
     "shell.execute_reply.started": "2021-09-27T01:02:41.480104Z"
    },
    "tags": []
   },
   "outputs": [
    {
     "name": "stdout",
     "output_type": "stream",
     "text": [
      "Connected!\n"
     ]
    },
    {
     "data": {
      "text/plain": [
       "[('pg_toast',),\n",
       " ('pg_temp_1',),\n",
       " ('pg_toast_temp_1',),\n",
       " ('pg_catalog',),\n",
       " ('information_schema',),\n",
       " ('public',),\n",
       " ('pa004',),\n",
       " ('pg_temp_4',),\n",
       " ('pg_toast_temp_4',),\n",
       " ('pa005',),\n",
       " ('pg_temp_9',),\n",
       " ('pg_toast_temp_9',)]"
      ]
     },
     "execution_count": 12,
     "metadata": {},
     "output_type": "execute_result"
    }
   ],
   "source": [
    "# connecting to DB\n",
    "conn, cursor = connect()\n",
    "\n",
    "query_schema = \"\"\"\n",
    "    SELECT nspname\n",
    "    FROM pg_catalog.pg_namespace\n",
    "\"\"\"\n",
    "\n",
    "cursor.execute(query_schema)\n",
    "record = (cursor.fetchall())\n",
    "print(record)\n",
    "cursor.close()\n",
    "conn.close()\n",
    "\n",
    "\n",
    "#cursor.execute(\"select relname from pg_class where relkind='r' and relname !~ '^(pg|sql)';\")\n",
    "#print (cursor.fetchall())"
   ]
  },
  {
   "cell_type": "markdown",
   "id": "bae0be41-5a19-46f0-b9d4-4b19ddd4424e",
   "metadata": {},
   "source": [
    "# 2.0 Table query"
   ]
  },
  {
   "cell_type": "code",
   "execution_count": 17,
   "id": "8c306ad4-9219-46b3-bb17-059ceb4890c5",
   "metadata": {
    "execution": {
     "iopub.execute_input": "2021-09-27T01:08:17.530104Z",
     "iopub.status.busy": "2021-09-27T01:08:17.530104Z",
     "iopub.status.idle": "2021-09-27T01:08:18.895104Z",
     "shell.execute_reply": "2021-09-27T01:08:18.893104Z",
     "shell.execute_reply.started": "2021-09-27T01:08:17.530104Z"
    },
    "tags": []
   },
   "outputs": [
    {
     "name": "stdout",
     "output_type": "stream",
     "text": [
      "[('users',), ('vehicle',), ('insurance',)]\n"
     ]
    }
   ],
   "source": [
    "#connecting to DB\n",
    "conn, cursor = connect()\n",
    "\n",
    "query_tables = \"\"\"\n",
    "    SELECT tablename\n",
    "    FROM pg_tables\n",
    "    WHERE schemaname ='pa004'\n",
    "\"\"\"\n",
    "\n",
    "cursor.execute(query_tables)\n",
    "record = (cursor.fetchall())\n",
    "print(record)\n",
    "cursor.close()\n",
    "conn.close()"
   ]
  },
  {
   "cell_type": "markdown",
   "id": "c02978a7-ec00-404a-8d16-4762d4b5f161",
   "metadata": {},
   "source": [
    "# 3.0 Collect data using psycopg2"
   ]
  },
  {
   "cell_type": "code",
   "execution_count": 18,
   "id": "a97c6786-1079-4268-8fbd-b0b092a860cf",
   "metadata": {
    "execution": {
     "iopub.execute_input": "2021-09-27T01:10:50.923104Z",
     "iopub.status.busy": "2021-09-27T01:10:50.922104Z",
     "iopub.status.idle": "2021-09-27T01:10:52.158104Z",
     "shell.execute_reply": "2021-09-27T01:10:52.158104Z",
     "shell.execute_reply.started": "2021-09-27T01:10:50.922104Z"
    }
   },
   "outputs": [
    {
     "name": "stdout",
     "output_type": "stream",
     "text": [
      "[(2, 'Male', 76, 3.0, 26.0), (3, 'Male', 47, 28.0, 26.0), (8, 'Female', 56, 28.0, 26.0), (11, 'Female', 47, 35.0, 124.0), (14, 'Male', 76, 28.0, 13.0), (15, 'Male', 71, 28.0, 30.0), (20, 'Female', 60, 33.0, 124.0), (21, 'Male', 65, 28.0, 124.0), (22, 'Male', 49, 28.0, 124.0), (27, 'Female', 51, 28.0, 124.0)]\n"
     ]
    }
   ],
   "source": [
    "# connecting to DB\n",
    "conn, cursor = connect()\n",
    "\n",
    "query_tables_users = \"\"\"\n",
    "    SELECT *\n",
    "    FROM pa004.users u\n",
    "    WHERE u.age > 44\n",
    "    LIMIT 10\n",
    "\"\"\"\n",
    "\n",
    "cursor.execute(query_tables_users)\n",
    "record = (cursor.fetchall())\n",
    "print(record)\n",
    "cursor.close()\n",
    "conn.close()"
   ]
  },
  {
   "cell_type": "code",
   "execution_count": 23,
   "id": "0e1c4f01-2421-4b52-a781-2b6f0b0eb426",
   "metadata": {
    "execution": {
     "iopub.execute_input": "2021-09-27T01:15:19.170104Z",
     "iopub.status.busy": "2021-09-27T01:15:19.170104Z",
     "iopub.status.idle": "2021-09-27T01:15:19.181104Z",
     "shell.execute_reply": "2021-09-27T01:15:19.180104Z",
     "shell.execute_reply.started": "2021-09-27T01:15:19.170104Z"
    },
    "tags": []
   },
   "outputs": [
    {
     "data": {
      "text/html": [
       "<div>\n",
       "<style scoped>\n",
       "    .dataframe tbody tr th:only-of-type {\n",
       "        vertical-align: middle;\n",
       "    }\n",
       "\n",
       "    .dataframe tbody tr th {\n",
       "        vertical-align: top;\n",
       "    }\n",
       "\n",
       "    .dataframe thead th {\n",
       "        text-align: right;\n",
       "    }\n",
       "</style>\n",
       "<table border=\"1\" class=\"dataframe\">\n",
       "  <thead>\n",
       "    <tr style=\"text-align: right;\">\n",
       "      <th></th>\n",
       "      <th>0</th>\n",
       "      <th>1</th>\n",
       "      <th>2</th>\n",
       "      <th>3</th>\n",
       "      <th>4</th>\n",
       "    </tr>\n",
       "  </thead>\n",
       "  <tbody>\n",
       "    <tr>\n",
       "      <th>0</th>\n",
       "      <td>2</td>\n",
       "      <td>Male</td>\n",
       "      <td>76</td>\n",
       "      <td>3.0</td>\n",
       "      <td>26.0</td>\n",
       "    </tr>\n",
       "    <tr>\n",
       "      <th>1</th>\n",
       "      <td>3</td>\n",
       "      <td>Male</td>\n",
       "      <td>47</td>\n",
       "      <td>28.0</td>\n",
       "      <td>26.0</td>\n",
       "    </tr>\n",
       "    <tr>\n",
       "      <th>2</th>\n",
       "      <td>8</td>\n",
       "      <td>Female</td>\n",
       "      <td>56</td>\n",
       "      <td>28.0</td>\n",
       "      <td>26.0</td>\n",
       "    </tr>\n",
       "    <tr>\n",
       "      <th>3</th>\n",
       "      <td>11</td>\n",
       "      <td>Female</td>\n",
       "      <td>47</td>\n",
       "      <td>35.0</td>\n",
       "      <td>124.0</td>\n",
       "    </tr>\n",
       "    <tr>\n",
       "      <th>4</th>\n",
       "      <td>14</td>\n",
       "      <td>Male</td>\n",
       "      <td>76</td>\n",
       "      <td>28.0</td>\n",
       "      <td>13.0</td>\n",
       "    </tr>\n",
       "  </tbody>\n",
       "</table>\n",
       "</div>"
      ],
      "text/plain": [
       "    0       1   2     3      4\n",
       "0   2    Male  76   3.0   26.0\n",
       "1   3    Male  47  28.0   26.0\n",
       "2   8  Female  56  28.0   26.0\n",
       "3  11  Female  47  35.0  124.0\n",
       "4  14    Male  76  28.0   13.0"
      ]
     },
     "execution_count": 23,
     "metadata": {},
     "output_type": "execute_result"
    }
   ],
   "source": [
    "# not good because it is necessary to enter columns names manually\n",
    "# to improve this, we can make data collection using pandas\n",
    "pd.DataFrame(record).head()"
   ]
  },
  {
   "cell_type": "markdown",
   "id": "da0e51a0-864e-4e22-baf5-58694ba1a28c",
   "metadata": {},
   "source": [
    "# 4.0 Collect data using pandas"
   ]
  },
  {
   "cell_type": "markdown",
   "id": "38246540-6f06-45af-a946-2bae791a4bde",
   "metadata": {},
   "source": [
    "## 4.1 Using pandas.io.sql"
   ]
  },
  {
   "cell_type": "code",
   "execution_count": 24,
   "id": "cfe2f0a6-3642-4950-b371-aa9d910ea861",
   "metadata": {
    "execution": {
     "iopub.execute_input": "2021-09-27T01:17:20.855104Z",
     "iopub.status.busy": "2021-09-27T01:17:20.855104Z",
     "iopub.status.idle": "2021-09-27T01:17:20.862104Z",
     "shell.execute_reply": "2021-09-27T01:17:20.862104Z",
     "shell.execute_reply.started": "2021-09-27T01:17:20.855104Z"
    }
   },
   "outputs": [],
   "source": [
    "import pandas.io.sql as psql"
   ]
  },
  {
   "cell_type": "code",
   "execution_count": 32,
   "id": "06bcaf8a-7021-4b6f-9de0-2757f302c72a",
   "metadata": {
    "execution": {
     "iopub.execute_input": "2021-09-27T01:23:53.568104Z",
     "iopub.status.busy": "2021-09-27T01:23:53.567104Z",
     "iopub.status.idle": "2021-09-27T01:23:54.784104Z",
     "shell.execute_reply": "2021-09-27T01:23:54.783104Z",
     "shell.execute_reply.started": "2021-09-27T01:23:53.568104Z"
    },
    "tags": []
   },
   "outputs": [
    {
     "data": {
      "text/html": [
       "<div>\n",
       "<style scoped>\n",
       "    .dataframe tbody tr th:only-of-type {\n",
       "        vertical-align: middle;\n",
       "    }\n",
       "\n",
       "    .dataframe tbody tr th {\n",
       "        vertical-align: top;\n",
       "    }\n",
       "\n",
       "    .dataframe thead th {\n",
       "        text-align: right;\n",
       "    }\n",
       "</style>\n",
       "<table border=\"1\" class=\"dataframe\">\n",
       "  <thead>\n",
       "    <tr style=\"text-align: right;\">\n",
       "      <th></th>\n",
       "      <th>id</th>\n",
       "      <th>gender</th>\n",
       "      <th>age</th>\n",
       "      <th>region_code</th>\n",
       "      <th>policy_sales_channel</th>\n",
       "    </tr>\n",
       "  </thead>\n",
       "  <tbody>\n",
       "    <tr>\n",
       "      <th>0</th>\n",
       "      <td>2</td>\n",
       "      <td>Male</td>\n",
       "      <td>76</td>\n",
       "      <td>3.0</td>\n",
       "      <td>26.0</td>\n",
       "    </tr>\n",
       "    <tr>\n",
       "      <th>1</th>\n",
       "      <td>3</td>\n",
       "      <td>Male</td>\n",
       "      <td>47</td>\n",
       "      <td>28.0</td>\n",
       "      <td>26.0</td>\n",
       "    </tr>\n",
       "    <tr>\n",
       "      <th>2</th>\n",
       "      <td>8</td>\n",
       "      <td>Female</td>\n",
       "      <td>56</td>\n",
       "      <td>28.0</td>\n",
       "      <td>26.0</td>\n",
       "    </tr>\n",
       "    <tr>\n",
       "      <th>3</th>\n",
       "      <td>11</td>\n",
       "      <td>Female</td>\n",
       "      <td>47</td>\n",
       "      <td>35.0</td>\n",
       "      <td>124.0</td>\n",
       "    </tr>\n",
       "    <tr>\n",
       "      <th>4</th>\n",
       "      <td>14</td>\n",
       "      <td>Male</td>\n",
       "      <td>76</td>\n",
       "      <td>28.0</td>\n",
       "      <td>13.0</td>\n",
       "    </tr>\n",
       "  </tbody>\n",
       "</table>\n",
       "</div>"
      ],
      "text/plain": [
       "   id  gender  age  region_code  policy_sales_channel\n",
       "0   2    Male   76          3.0                  26.0\n",
       "1   3    Male   47         28.0                  26.0\n",
       "2   8  Female   56         28.0                  26.0\n",
       "3  11  Female   47         35.0                 124.0\n",
       "4  14    Male   76         28.0                  13.0"
      ]
     },
     "metadata": {},
     "output_type": "display_data"
    }
   ],
   "source": [
    "conn, cursor = connect()\n",
    "\n",
    "query_tables_users = \"\"\"\n",
    "    SELECT *\n",
    "    FROM pa004.users u\n",
    "    WHERE u.age > 44\n",
    "    LIMIT 10\n",
    "\"\"\"\n",
    "\n",
    "# the columns names are obtained when using pandas to collect data\n",
    "display(psql.read_sql(query_tables_users, conn).head())\n",
    "\n",
    "cursor.close()\n",
    "conn.close()\n"
   ]
  },
  {
   "cell_type": "markdown",
   "id": "4ffb3107-037f-4dbd-87af-7ac717ef8e3a",
   "metadata": {
    "execution": {
     "iopub.execute_input": "2021-09-27T01:21:45.567104Z",
     "iopub.status.busy": "2021-09-27T01:21:45.566104Z",
     "iopub.status.idle": "2021-09-27T01:21:45.574104Z",
     "shell.execute_reply": "2021-09-27T01:21:45.574104Z",
     "shell.execute_reply.started": "2021-09-27T01:21:45.567104Z"
    }
   },
   "source": [
    "## 4.2 Using only pandas"
   ]
  },
  {
   "cell_type": "code",
   "execution_count": 33,
   "id": "1c2d3739-1e9e-4c9b-8cc3-37198348527e",
   "metadata": {
    "execution": {
     "iopub.execute_input": "2021-09-27T01:25:48.730104Z",
     "iopub.status.busy": "2021-09-27T01:25:48.729104Z",
     "iopub.status.idle": "2021-09-27T01:25:49.995104Z",
     "shell.execute_reply": "2021-09-27T01:25:49.994104Z",
     "shell.execute_reply.started": "2021-09-27T01:25:48.730104Z"
    }
   },
   "outputs": [
    {
     "data": {
      "text/html": [
       "<div>\n",
       "<style scoped>\n",
       "    .dataframe tbody tr th:only-of-type {\n",
       "        vertical-align: middle;\n",
       "    }\n",
       "\n",
       "    .dataframe tbody tr th {\n",
       "        vertical-align: top;\n",
       "    }\n",
       "\n",
       "    .dataframe thead th {\n",
       "        text-align: right;\n",
       "    }\n",
       "</style>\n",
       "<table border=\"1\" class=\"dataframe\">\n",
       "  <thead>\n",
       "    <tr style=\"text-align: right;\">\n",
       "      <th></th>\n",
       "      <th>id</th>\n",
       "      <th>gender</th>\n",
       "      <th>age</th>\n",
       "      <th>region_code</th>\n",
       "      <th>policy_sales_channel</th>\n",
       "    </tr>\n",
       "  </thead>\n",
       "  <tbody>\n",
       "    <tr>\n",
       "      <th>0</th>\n",
       "      <td>2</td>\n",
       "      <td>Male</td>\n",
       "      <td>76</td>\n",
       "      <td>3.0</td>\n",
       "      <td>26.0</td>\n",
       "    </tr>\n",
       "    <tr>\n",
       "      <th>1</th>\n",
       "      <td>3</td>\n",
       "      <td>Male</td>\n",
       "      <td>47</td>\n",
       "      <td>28.0</td>\n",
       "      <td>26.0</td>\n",
       "    </tr>\n",
       "    <tr>\n",
       "      <th>2</th>\n",
       "      <td>8</td>\n",
       "      <td>Female</td>\n",
       "      <td>56</td>\n",
       "      <td>28.0</td>\n",
       "      <td>26.0</td>\n",
       "    </tr>\n",
       "    <tr>\n",
       "      <th>3</th>\n",
       "      <td>11</td>\n",
       "      <td>Female</td>\n",
       "      <td>47</td>\n",
       "      <td>35.0</td>\n",
       "      <td>124.0</td>\n",
       "    </tr>\n",
       "    <tr>\n",
       "      <th>4</th>\n",
       "      <td>14</td>\n",
       "      <td>Male</td>\n",
       "      <td>76</td>\n",
       "      <td>28.0</td>\n",
       "      <td>13.0</td>\n",
       "    </tr>\n",
       "  </tbody>\n",
       "</table>\n",
       "</div>"
      ],
      "text/plain": [
       "   id  gender  age  region_code  policy_sales_channel\n",
       "0   2    Male   76          3.0                  26.0\n",
       "1   3    Male   47         28.0                  26.0\n",
       "2   8  Female   56         28.0                  26.0\n",
       "3  11  Female   47         35.0                 124.0\n",
       "4  14    Male   76         28.0                  13.0"
      ]
     },
     "metadata": {},
     "output_type": "display_data"
    }
   ],
   "source": [
    "conn, cursor = connect()\n",
    "\n",
    "query_tables_users = \"\"\"\n",
    "    SELECT *\n",
    "    FROM pa004.users u\n",
    "    WHERE u.age > 44\n",
    "    LIMIT 10\n",
    "\"\"\"\n",
    "\n",
    "# the columns names are obtained when using pandas to collect data\n",
    "display(pd.read_sql(query_tables_users, conn).head())\n",
    "\n",
    "cursor.close()\n",
    "conn.close()"
   ]
  },
  {
   "cell_type": "code",
   "execution_count": null,
   "id": "aa1101a3-0c4f-4b4d-a198-ce804cc5ed89",
   "metadata": {},
   "outputs": [],
   "source": [
    "#select *\n",
    "#from\n",
    "#\tpa004.users u inner join pa004.vehicle v on(u.id=v.id)\n",
    "#\t\t\t\t  inner join pa004.insurance i on(u.id = i.id)\n",
    "#limit 10"
   ]
  }
 ],
 "metadata": {
  "kernelspec": {
   "display_name": "Python 3 (ipykernel)",
   "language": "python",
   "name": "python3"
  },
  "language_info": {
   "codemirror_mode": {
    "name": "ipython",
    "version": 3
   },
   "file_extension": ".py",
   "mimetype": "text/x-python",
   "name": "python",
   "nbconvert_exporter": "python",
   "pygments_lexer": "ipython3",
   "version": "3.7.11"
  }
 },
 "nbformat": 4,
 "nbformat_minor": 5
}
